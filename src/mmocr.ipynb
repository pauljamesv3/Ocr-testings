{
  "nbformat": 4,
  "nbformat_minor": 0,
  "metadata": {
    "colab": {
      "provenance": []
    },
    "kernelspec": {
      "name": "python3",
      "display_name": "Python 3"
    },
    "language_info": {
      "name": "python"
    },
    "widgets": {
      "application/vnd.jupyter.widget-state+json": {
        "ecbbeb7da83e46739d86d1c621e5310c": {
          "model_module": "@jupyter-widgets/output",
          "model_name": "OutputModel",
          "model_module_version": "1.0.0",
          "state": {
            "_dom_classes": [],
            "_model_module": "@jupyter-widgets/output",
            "_model_module_version": "1.0.0",
            "_model_name": "OutputModel",
            "_view_count": null,
            "_view_module": "@jupyter-widgets/output",
            "_view_module_version": "1.0.0",
            "_view_name": "OutputView",
            "layout": "IPY_MODEL_d6c9614d74524de1b6129577bf975cbf",
            "msg_id": "",
            "outputs": [
              {
                "output_type": "display_data",
                "data": {
                  "text/plain": "Inference \u001b[38;2;183;44;94m━\u001b[0m\u001b[38;2;209;42;102m━\u001b[0m\u001b[38;2;230;39;108m━\u001b[0m\u001b[38;2;244;38;112m━\u001b[0m\u001b[38;2;249;38;114m━\u001b[0m\u001b[38;2;244;38;112m━\u001b[0m\u001b[38;2;230;39;108m━\u001b[0m\u001b[38;2;209;42;102m━\u001b[0m\u001b[38;2;183;44;94m━\u001b[0m\u001b[38;2;153;48;86m━\u001b[0m\u001b[38;2;123;51;77m━\u001b[0m\u001b[38;2;97;53;69m━\u001b[0m\u001b[38;2;76;56;63m━\u001b[0m\u001b[38;2;62;57;59m━\u001b[0m\u001b[38;2;58;58;58m━\u001b[0m\u001b[38;2;62;57;59m━\u001b[0m\u001b[38;2;76;56;63m━\u001b[0m\u001b[38;2;97;53;69m━\u001b[0m\u001b[38;2;123;51;77m━\u001b[0m\u001b[38;2;153;48;86m━\u001b[0m\u001b[38;2;183;44;94m━\u001b[0m\u001b[38;2;209;42;102m━\u001b[0m\u001b[38;2;230;39;108m━\u001b[0m\u001b[38;2;244;38;112m━\u001b[0m\u001b[38;2;249;38;114m━\u001b[0m\u001b[38;2;244;38;112m━\u001b[0m\u001b[38;2;230;39;108m━\u001b[0m\u001b[38;2;209;42;102m━\u001b[0m\u001b[38;2;183;44;94m━\u001b[0m\u001b[38;2;153;48;86m━\u001b[0m\u001b[38;2;123;51;77m━\u001b[0m\u001b[38;2;97;53;69m━\u001b[0m\u001b[38;2;76;56;63m━\u001b[0m\u001b[38;2;62;57;59m━\u001b[0m\u001b[38;2;58;58;58m━\u001b[0m\u001b[38;2;62;57;59m━\u001b[0m\u001b[38;2;76;56;63m━\u001b[0m\u001b[38;2;97;53;69m━\u001b[0m\u001b[38;2;123;51;77m━\u001b[0m\u001b[38;2;153;48;86m━\u001b[0m  \u001b[36m \u001b[0m\n",
                  "text/html": "<pre style=\"white-space:pre;overflow-x:auto;line-height:normal;font-family:Menlo,'DejaVu Sans Mono',consolas,'Courier New',monospace\">Inference <span style=\"color: #b72c5e; text-decoration-color: #b72c5e\">━</span><span style=\"color: #d12a66; text-decoration-color: #d12a66\">━</span><span style=\"color: #e6276c; text-decoration-color: #e6276c\">━</span><span style=\"color: #f42670; text-decoration-color: #f42670\">━</span><span style=\"color: #f92672; text-decoration-color: #f92672\">━</span><span style=\"color: #f42670; text-decoration-color: #f42670\">━</span><span style=\"color: #e6276c; text-decoration-color: #e6276c\">━</span><span style=\"color: #d12a66; text-decoration-color: #d12a66\">━</span><span style=\"color: #b72c5e; text-decoration-color: #b72c5e\">━</span><span style=\"color: #993056; text-decoration-color: #993056\">━</span><span style=\"color: #7b334d; text-decoration-color: #7b334d\">━</span><span style=\"color: #613545; text-decoration-color: #613545\">━</span><span style=\"color: #4c383f; text-decoration-color: #4c383f\">━</span><span style=\"color: #3e393b; text-decoration-color: #3e393b\">━</span><span style=\"color: #3a3a3a; text-decoration-color: #3a3a3a\">━</span><span style=\"color: #3e393b; text-decoration-color: #3e393b\">━</span><span style=\"color: #4c383f; text-decoration-color: #4c383f\">━</span><span style=\"color: #613545; text-decoration-color: #613545\">━</span><span style=\"color: #7b334d; text-decoration-color: #7b334d\">━</span><span style=\"color: #993056; text-decoration-color: #993056\">━</span><span style=\"color: #b72c5e; text-decoration-color: #b72c5e\">━</span><span style=\"color: #d12a66; text-decoration-color: #d12a66\">━</span><span style=\"color: #e6276c; text-decoration-color: #e6276c\">━</span><span style=\"color: #f42670; text-decoration-color: #f42670\">━</span><span style=\"color: #f92672; text-decoration-color: #f92672\">━</span><span style=\"color: #f42670; text-decoration-color: #f42670\">━</span><span style=\"color: #e6276c; text-decoration-color: #e6276c\">━</span><span style=\"color: #d12a66; text-decoration-color: #d12a66\">━</span><span style=\"color: #b72c5e; text-decoration-color: #b72c5e\">━</span><span style=\"color: #993056; text-decoration-color: #993056\">━</span><span style=\"color: #7b334d; text-decoration-color: #7b334d\">━</span><span style=\"color: #613545; text-decoration-color: #613545\">━</span><span style=\"color: #4c383f; text-decoration-color: #4c383f\">━</span><span style=\"color: #3e393b; text-decoration-color: #3e393b\">━</span><span style=\"color: #3a3a3a; text-decoration-color: #3a3a3a\">━</span><span style=\"color: #3e393b; text-decoration-color: #3e393b\">━</span><span style=\"color: #4c383f; text-decoration-color: #4c383f\">━</span><span style=\"color: #613545; text-decoration-color: #613545\">━</span><span style=\"color: #7b334d; text-decoration-color: #7b334d\">━</span><span style=\"color: #993056; text-decoration-color: #993056\">━</span>  <span style=\"color: #008080; text-decoration-color: #008080\"> </span>\n</pre>\n"
                },
                "metadata": {}
              }
            ]
          }
        },
        "d6c9614d74524de1b6129577bf975cbf": {
          "model_module": "@jupyter-widgets/base",
          "model_name": "LayoutModel",
          "model_module_version": "1.2.0",
          "state": {
            "_model_module": "@jupyter-widgets/base",
            "_model_module_version": "1.2.0",
            "_model_name": "LayoutModel",
            "_view_count": null,
            "_view_module": "@jupyter-widgets/base",
            "_view_module_version": "1.2.0",
            "_view_name": "LayoutView",
            "align_content": null,
            "align_items": null,
            "align_self": null,
            "border": null,
            "bottom": null,
            "display": null,
            "flex": null,
            "flex_flow": null,
            "grid_area": null,
            "grid_auto_columns": null,
            "grid_auto_flow": null,
            "grid_auto_rows": null,
            "grid_column": null,
            "grid_gap": null,
            "grid_row": null,
            "grid_template_areas": null,
            "grid_template_columns": null,
            "grid_template_rows": null,
            "height": null,
            "justify_content": null,
            "justify_items": null,
            "left": null,
            "margin": null,
            "max_height": null,
            "max_width": null,
            "min_height": null,
            "min_width": null,
            "object_fit": null,
            "object_position": null,
            "order": null,
            "overflow": null,
            "overflow_x": null,
            "overflow_y": null,
            "padding": null,
            "right": null,
            "top": null,
            "visibility": null,
            "width": null
          }
        },
        "34f5a6e9e1bc489b8443983928166d81": {
          "model_module": "@jupyter-widgets/output",
          "model_name": "OutputModel",
          "model_module_version": "1.0.0",
          "state": {
            "_dom_classes": [],
            "_model_module": "@jupyter-widgets/output",
            "_model_module_version": "1.0.0",
            "_model_name": "OutputModel",
            "_view_count": null,
            "_view_module": "@jupyter-widgets/output",
            "_view_module_version": "1.0.0",
            "_view_name": "OutputView",
            "layout": "IPY_MODEL_286bd83237a04327b04e8335197f5eb7",
            "msg_id": "",
            "outputs": [
              {
                "output_type": "display_data",
                "data": {
                  "text/plain": "Inference \u001b[38;2;58;58;58m━\u001b[0m\u001b[38;2;62;57;59m━\u001b[0m\u001b[38;2;76;56;63m━\u001b[0m\u001b[38;2;97;53;69m━\u001b[0m\u001b[38;2;123;51;77m━\u001b[0m\u001b[38;2;153;48;86m━\u001b[0m\u001b[38;2;183;44;94m━\u001b[0m\u001b[38;2;209;42;102m━\u001b[0m\u001b[38;2;230;39;108m━\u001b[0m\u001b[38;2;244;38;112m━\u001b[0m\u001b[38;2;249;38;114m━\u001b[0m\u001b[38;2;244;38;112m━\u001b[0m\u001b[38;2;230;39;108m━\u001b[0m\u001b[38;2;209;42;102m━\u001b[0m\u001b[38;2;183;44;94m━\u001b[0m\u001b[38;2;153;48;86m━\u001b[0m\u001b[38;2;123;51;77m━\u001b[0m\u001b[38;2;97;53;69m━\u001b[0m\u001b[38;2;76;56;63m━\u001b[0m\u001b[38;2;62;57;59m━\u001b[0m\u001b[38;2;58;58;58m━\u001b[0m\u001b[38;2;62;57;59m━\u001b[0m\u001b[38;2;76;56;63m━\u001b[0m\u001b[38;2;97;53;69m━\u001b[0m\u001b[38;2;123;51;77m━\u001b[0m\u001b[38;2;153;48;86m━\u001b[0m\u001b[38;2;183;44;94m━\u001b[0m\u001b[38;2;209;42;102m━\u001b[0m\u001b[38;2;230;39;108m━\u001b[0m\u001b[38;2;244;38;112m━\u001b[0m\u001b[38;2;249;38;114m━\u001b[0m\u001b[38;2;244;38;112m━\u001b[0m\u001b[38;2;230;39;108m━\u001b[0m\u001b[38;2;209;42;102m━\u001b[0m\u001b[38;2;183;44;94m━\u001b[0m\u001b[38;2;153;48;86m━\u001b[0m\u001b[38;2;123;51;77m━\u001b[0m\u001b[38;2;97;53;69m━\u001b[0m\u001b[38;2;76;56;63m━\u001b[0m\u001b[38;2;62;57;59m━\u001b[0m  \u001b[36m \u001b[0m\n",
                  "text/html": "<pre style=\"white-space:pre;overflow-x:auto;line-height:normal;font-family:Menlo,'DejaVu Sans Mono',consolas,'Courier New',monospace\">Inference <span style=\"color: #3a3a3a; text-decoration-color: #3a3a3a\">━</span><span style=\"color: #3e393b; text-decoration-color: #3e393b\">━</span><span style=\"color: #4c383f; text-decoration-color: #4c383f\">━</span><span style=\"color: #613545; text-decoration-color: #613545\">━</span><span style=\"color: #7b334d; text-decoration-color: #7b334d\">━</span><span style=\"color: #993056; text-decoration-color: #993056\">━</span><span style=\"color: #b72c5e; text-decoration-color: #b72c5e\">━</span><span style=\"color: #d12a66; text-decoration-color: #d12a66\">━</span><span style=\"color: #e6276c; text-decoration-color: #e6276c\">━</span><span style=\"color: #f42670; text-decoration-color: #f42670\">━</span><span style=\"color: #f92672; text-decoration-color: #f92672\">━</span><span style=\"color: #f42670; text-decoration-color: #f42670\">━</span><span style=\"color: #e6276c; text-decoration-color: #e6276c\">━</span><span style=\"color: #d12a66; text-decoration-color: #d12a66\">━</span><span style=\"color: #b72c5e; text-decoration-color: #b72c5e\">━</span><span style=\"color: #993056; text-decoration-color: #993056\">━</span><span style=\"color: #7b334d; text-decoration-color: #7b334d\">━</span><span style=\"color: #613545; text-decoration-color: #613545\">━</span><span style=\"color: #4c383f; text-decoration-color: #4c383f\">━</span><span style=\"color: #3e393b; text-decoration-color: #3e393b\">━</span><span style=\"color: #3a3a3a; text-decoration-color: #3a3a3a\">━</span><span style=\"color: #3e393b; text-decoration-color: #3e393b\">━</span><span style=\"color: #4c383f; text-decoration-color: #4c383f\">━</span><span style=\"color: #613545; text-decoration-color: #613545\">━</span><span style=\"color: #7b334d; text-decoration-color: #7b334d\">━</span><span style=\"color: #993056; text-decoration-color: #993056\">━</span><span style=\"color: #b72c5e; text-decoration-color: #b72c5e\">━</span><span style=\"color: #d12a66; text-decoration-color: #d12a66\">━</span><span style=\"color: #e6276c; text-decoration-color: #e6276c\">━</span><span style=\"color: #f42670; text-decoration-color: #f42670\">━</span><span style=\"color: #f92672; text-decoration-color: #f92672\">━</span><span style=\"color: #f42670; text-decoration-color: #f42670\">━</span><span style=\"color: #e6276c; text-decoration-color: #e6276c\">━</span><span style=\"color: #d12a66; text-decoration-color: #d12a66\">━</span><span style=\"color: #b72c5e; text-decoration-color: #b72c5e\">━</span><span style=\"color: #993056; text-decoration-color: #993056\">━</span><span style=\"color: #7b334d; text-decoration-color: #7b334d\">━</span><span style=\"color: #613545; text-decoration-color: #613545\">━</span><span style=\"color: #4c383f; text-decoration-color: #4c383f\">━</span><span style=\"color: #3e393b; text-decoration-color: #3e393b\">━</span>  <span style=\"color: #008080; text-decoration-color: #008080\"> </span>\n</pre>\n"
                },
                "metadata": {}
              }
            ]
          }
        },
        "286bd83237a04327b04e8335197f5eb7": {
          "model_module": "@jupyter-widgets/base",
          "model_name": "LayoutModel",
          "model_module_version": "1.2.0",
          "state": {
            "_model_module": "@jupyter-widgets/base",
            "_model_module_version": "1.2.0",
            "_model_name": "LayoutModel",
            "_view_count": null,
            "_view_module": "@jupyter-widgets/base",
            "_view_module_version": "1.2.0",
            "_view_name": "LayoutView",
            "align_content": null,
            "align_items": null,
            "align_self": null,
            "border": null,
            "bottom": null,
            "display": null,
            "flex": null,
            "flex_flow": null,
            "grid_area": null,
            "grid_auto_columns": null,
            "grid_auto_flow": null,
            "grid_auto_rows": null,
            "grid_column": null,
            "grid_gap": null,
            "grid_row": null,
            "grid_template_areas": null,
            "grid_template_columns": null,
            "grid_template_rows": null,
            "height": null,
            "justify_content": null,
            "justify_items": null,
            "left": null,
            "margin": null,
            "max_height": null,
            "max_width": null,
            "min_height": null,
            "min_width": null,
            "object_fit": null,
            "object_position": null,
            "order": null,
            "overflow": null,
            "overflow_x": null,
            "overflow_y": null,
            "padding": null,
            "right": null,
            "top": null,
            "visibility": null,
            "width": null
          }
        },
        "02bed5d99c7f4327be43b435d5f491a1": {
          "model_module": "@jupyter-widgets/output",
          "model_name": "OutputModel",
          "model_module_version": "1.0.0",
          "state": {
            "_dom_classes": [],
            "_model_module": "@jupyter-widgets/output",
            "_model_module_version": "1.0.0",
            "_model_name": "OutputModel",
            "_view_count": null,
            "_view_module": "@jupyter-widgets/output",
            "_view_module_version": "1.0.0",
            "_view_name": "OutputView",
            "layout": "IPY_MODEL_81226af9b7394a2bb5a0d3d4ce72ab4a",
            "msg_id": "",
            "outputs": [
              {
                "output_type": "display_data",
                "data": {
                  "text/plain": "Inference \u001b[38;2;97;53;69m━\u001b[0m\u001b[38;2;76;56;63m━\u001b[0m\u001b[38;2;62;57;59m━\u001b[0m\u001b[38;2;58;58;58m━\u001b[0m\u001b[38;2;62;57;59m━\u001b[0m\u001b[38;2;76;56;63m━\u001b[0m\u001b[38;2;97;53;69m━\u001b[0m\u001b[38;2;123;51;77m━\u001b[0m\u001b[38;2;153;48;86m━\u001b[0m\u001b[38;2;183;44;94m━\u001b[0m\u001b[38;2;209;42;102m━\u001b[0m\u001b[38;2;230;39;108m━\u001b[0m\u001b[38;2;244;38;112m━\u001b[0m\u001b[38;2;249;38;114m━\u001b[0m\u001b[38;2;244;38;112m━\u001b[0m\u001b[38;2;230;39;108m━\u001b[0m\u001b[38;2;209;42;102m━\u001b[0m\u001b[38;2;183;44;94m━\u001b[0m\u001b[38;2;153;48;86m━\u001b[0m\u001b[38;2;123;51;77m━\u001b[0m\u001b[38;2;97;53;69m━\u001b[0m\u001b[38;2;76;56;63m━\u001b[0m\u001b[38;2;62;57;59m━\u001b[0m\u001b[38;2;58;58;58m━\u001b[0m\u001b[38;2;62;57;59m━\u001b[0m\u001b[38;2;76;56;63m━\u001b[0m\u001b[38;2;97;53;69m━\u001b[0m\u001b[38;2;123;51;77m━\u001b[0m\u001b[38;2;153;48;86m━\u001b[0m\u001b[38;2;183;44;94m━\u001b[0m\u001b[38;2;209;42;102m━\u001b[0m\u001b[38;2;230;39;108m━\u001b[0m\u001b[38;2;244;38;112m━\u001b[0m\u001b[38;2;249;38;114m━\u001b[0m\u001b[38;2;244;38;112m━\u001b[0m\u001b[38;2;230;39;108m━\u001b[0m\u001b[38;2;209;42;102m━\u001b[0m\u001b[38;2;183;44;94m━\u001b[0m\u001b[38;2;153;48;86m━\u001b[0m\u001b[38;2;123;51;77m━\u001b[0m  \u001b[36m \u001b[0m\n",
                  "text/html": "<pre style=\"white-space:pre;overflow-x:auto;line-height:normal;font-family:Menlo,'DejaVu Sans Mono',consolas,'Courier New',monospace\">Inference <span style=\"color: #613545; text-decoration-color: #613545\">━</span><span style=\"color: #4c383f; text-decoration-color: #4c383f\">━</span><span style=\"color: #3e393b; text-decoration-color: #3e393b\">━</span><span style=\"color: #3a3a3a; text-decoration-color: #3a3a3a\">━</span><span style=\"color: #3e393b; text-decoration-color: #3e393b\">━</span><span style=\"color: #4c383f; text-decoration-color: #4c383f\">━</span><span style=\"color: #613545; text-decoration-color: #613545\">━</span><span style=\"color: #7b334d; text-decoration-color: #7b334d\">━</span><span style=\"color: #993056; text-decoration-color: #993056\">━</span><span style=\"color: #b72c5e; text-decoration-color: #b72c5e\">━</span><span style=\"color: #d12a66; text-decoration-color: #d12a66\">━</span><span style=\"color: #e6276c; text-decoration-color: #e6276c\">━</span><span style=\"color: #f42670; text-decoration-color: #f42670\">━</span><span style=\"color: #f92672; text-decoration-color: #f92672\">━</span><span style=\"color: #f42670; text-decoration-color: #f42670\">━</span><span style=\"color: #e6276c; text-decoration-color: #e6276c\">━</span><span style=\"color: #d12a66; text-decoration-color: #d12a66\">━</span><span style=\"color: #b72c5e; text-decoration-color: #b72c5e\">━</span><span style=\"color: #993056; text-decoration-color: #993056\">━</span><span style=\"color: #7b334d; text-decoration-color: #7b334d\">━</span><span style=\"color: #613545; text-decoration-color: #613545\">━</span><span style=\"color: #4c383f; text-decoration-color: #4c383f\">━</span><span style=\"color: #3e393b; text-decoration-color: #3e393b\">━</span><span style=\"color: #3a3a3a; text-decoration-color: #3a3a3a\">━</span><span style=\"color: #3e393b; text-decoration-color: #3e393b\">━</span><span style=\"color: #4c383f; text-decoration-color: #4c383f\">━</span><span style=\"color: #613545; text-decoration-color: #613545\">━</span><span style=\"color: #7b334d; text-decoration-color: #7b334d\">━</span><span style=\"color: #993056; text-decoration-color: #993056\">━</span><span style=\"color: #b72c5e; text-decoration-color: #b72c5e\">━</span><span style=\"color: #d12a66; text-decoration-color: #d12a66\">━</span><span style=\"color: #e6276c; text-decoration-color: #e6276c\">━</span><span style=\"color: #f42670; text-decoration-color: #f42670\">━</span><span style=\"color: #f92672; text-decoration-color: #f92672\">━</span><span style=\"color: #f42670; text-decoration-color: #f42670\">━</span><span style=\"color: #e6276c; text-decoration-color: #e6276c\">━</span><span style=\"color: #d12a66; text-decoration-color: #d12a66\">━</span><span style=\"color: #b72c5e; text-decoration-color: #b72c5e\">━</span><span style=\"color: #993056; text-decoration-color: #993056\">━</span><span style=\"color: #7b334d; text-decoration-color: #7b334d\">━</span>  <span style=\"color: #008080; text-decoration-color: #008080\"> </span>\n</pre>\n"
                },
                "metadata": {}
              }
            ]
          }
        },
        "81226af9b7394a2bb5a0d3d4ce72ab4a": {
          "model_module": "@jupyter-widgets/base",
          "model_name": "LayoutModel",
          "model_module_version": "1.2.0",
          "state": {
            "_model_module": "@jupyter-widgets/base",
            "_model_module_version": "1.2.0",
            "_model_name": "LayoutModel",
            "_view_count": null,
            "_view_module": "@jupyter-widgets/base",
            "_view_module_version": "1.2.0",
            "_view_name": "LayoutView",
            "align_content": null,
            "align_items": null,
            "align_self": null,
            "border": null,
            "bottom": null,
            "display": null,
            "flex": null,
            "flex_flow": null,
            "grid_area": null,
            "grid_auto_columns": null,
            "grid_auto_flow": null,
            "grid_auto_rows": null,
            "grid_column": null,
            "grid_gap": null,
            "grid_row": null,
            "grid_template_areas": null,
            "grid_template_columns": null,
            "grid_template_rows": null,
            "height": null,
            "justify_content": null,
            "justify_items": null,
            "left": null,
            "margin": null,
            "max_height": null,
            "max_width": null,
            "min_height": null,
            "min_width": null,
            "object_fit": null,
            "object_position": null,
            "order": null,
            "overflow": null,
            "overflow_x": null,
            "overflow_y": null,
            "padding": null,
            "right": null,
            "top": null,
            "visibility": null,
            "width": null
          }
        }
      }
    }
  },
  "cells": [
    {
      "cell_type": "code",
      "source": [
        "! pip install -U openmim"
      ],
      "metadata": {
        "colab": {
          "base_uri": "https://localhost:8080/",
          "height": 1000
        },
        "id": "o3vS7zLoQT6c",
        "outputId": "9cbd2687-cbdd-4c23-aba9-05b274414328"
      },
      "execution_count": 1,
      "outputs": [
        {
          "output_type": "stream",
          "name": "stdout",
          "text": [
            "Collecting openmim\n",
            "  Downloading openmim-0.3.9-py2.py3-none-any.whl (52 kB)\n",
            "\u001b[2K     \u001b[90m━━━━━━━━━━━━━━━━━━━━━━━━━━━━━━━━━━━━━━━━\u001b[0m \u001b[32m52.7/52.7 kB\u001b[0m \u001b[31m1.1 MB/s\u001b[0m eta \u001b[36m0:00:00\u001b[0m\n",
            "\u001b[?25hRequirement already satisfied: Click in /usr/local/lib/python3.10/dist-packages (from openmim) (8.1.7)\n",
            "Collecting colorama (from openmim)\n",
            "  Downloading colorama-0.4.6-py2.py3-none-any.whl (25 kB)\n",
            "Collecting model-index (from openmim)\n",
            "  Downloading model_index-0.1.11-py3-none-any.whl (34 kB)\n",
            "Collecting opendatalab (from openmim)\n",
            "  Downloading opendatalab-0.0.10-py3-none-any.whl (29 kB)\n",
            "Requirement already satisfied: pandas in /usr/local/lib/python3.10/dist-packages (from openmim) (2.0.3)\n",
            "Requirement already satisfied: pip>=19.3 in /usr/local/lib/python3.10/dist-packages (from openmim) (23.1.2)\n",
            "Requirement already satisfied: requests in /usr/local/lib/python3.10/dist-packages (from openmim) (2.31.0)\n",
            "Requirement already satisfied: rich in /usr/local/lib/python3.10/dist-packages (from openmim) (13.7.1)\n",
            "Requirement already satisfied: tabulate in /usr/local/lib/python3.10/dist-packages (from openmim) (0.9.0)\n",
            "Requirement already satisfied: pyyaml in /usr/local/lib/python3.10/dist-packages (from model-index->openmim) (6.0.1)\n",
            "Requirement already satisfied: markdown in /usr/local/lib/python3.10/dist-packages (from model-index->openmim) (3.6)\n",
            "Collecting ordered-set (from model-index->openmim)\n",
            "  Downloading ordered_set-4.1.0-py3-none-any.whl (7.6 kB)\n",
            "Collecting pycryptodome (from opendatalab->openmim)\n",
            "  Downloading pycryptodome-3.20.0-cp35-abi3-manylinux_2_17_x86_64.manylinux2014_x86_64.whl (2.1 MB)\n",
            "\u001b[2K     \u001b[90m━━━━━━━━━━━━━━━━━━━━━━━━━━━━━━━━━━━━━━━━\u001b[0m \u001b[32m2.1/2.1 MB\u001b[0m \u001b[31m31.2 MB/s\u001b[0m eta \u001b[36m0:00:00\u001b[0m\n",
            "\u001b[?25hRequirement already satisfied: tqdm in /usr/local/lib/python3.10/dist-packages (from opendatalab->openmim) (4.66.4)\n",
            "Collecting openxlab (from opendatalab->openmim)\n",
            "  Downloading openxlab-0.1.0-py3-none-any.whl (307 kB)\n",
            "\u001b[2K     \u001b[90m━━━━━━━━━━━━━━━━━━━━━━━━━━━━━━━━━━━━━━━━\u001b[0m \u001b[32m307.4/307.4 kB\u001b[0m \u001b[31m13.3 MB/s\u001b[0m eta \u001b[36m0:00:00\u001b[0m\n",
            "\u001b[?25hRequirement already satisfied: charset-normalizer<4,>=2 in /usr/local/lib/python3.10/dist-packages (from requests->openmim) (3.3.2)\n",
            "Requirement already satisfied: idna<4,>=2.5 in /usr/local/lib/python3.10/dist-packages (from requests->openmim) (3.7)\n",
            "Requirement already satisfied: urllib3<3,>=1.21.1 in /usr/local/lib/python3.10/dist-packages (from requests->openmim) (2.0.7)\n",
            "Requirement already satisfied: certifi>=2017.4.17 in /usr/local/lib/python3.10/dist-packages (from requests->openmim) (2024.2.2)\n",
            "Requirement already satisfied: python-dateutil>=2.8.2 in /usr/local/lib/python3.10/dist-packages (from pandas->openmim) (2.8.2)\n",
            "Requirement already satisfied: pytz>=2020.1 in /usr/local/lib/python3.10/dist-packages (from pandas->openmim) (2023.4)\n",
            "Requirement already satisfied: tzdata>=2022.1 in /usr/local/lib/python3.10/dist-packages (from pandas->openmim) (2024.1)\n",
            "Requirement already satisfied: numpy>=1.21.0 in /usr/local/lib/python3.10/dist-packages (from pandas->openmim) (1.25.2)\n",
            "Requirement already satisfied: markdown-it-py>=2.2.0 in /usr/local/lib/python3.10/dist-packages (from rich->openmim) (3.0.0)\n",
            "Requirement already satisfied: pygments<3.0.0,>=2.13.0 in /usr/local/lib/python3.10/dist-packages (from rich->openmim) (2.16.1)\n",
            "Requirement already satisfied: mdurl~=0.1 in /usr/local/lib/python3.10/dist-packages (from markdown-it-py>=2.2.0->rich->openmim) (0.1.2)\n",
            "Requirement already satisfied: six>=1.5 in /usr/local/lib/python3.10/dist-packages (from python-dateutil>=2.8.2->pandas->openmim) (1.16.0)\n",
            "Requirement already satisfied: filelock~=3.14.0 in /usr/local/lib/python3.10/dist-packages (from openxlab->opendatalab->openmim) (3.14.0)\n",
            "Collecting oss2~=2.17.0 (from openxlab->opendatalab->openmim)\n",
            "  Downloading oss2-2.17.0.tar.gz (259 kB)\n",
            "\u001b[2K     \u001b[90m━━━━━━━━━━━━━━━━━━━━━━━━━━━━━━━━━━━━━━━━\u001b[0m \u001b[32m259.5/259.5 kB\u001b[0m \u001b[31m24.1 MB/s\u001b[0m eta \u001b[36m0:00:00\u001b[0m\n",
            "\u001b[?25h  Preparing metadata (setup.py) ... \u001b[?25l\u001b[?25hdone\n",
            "Requirement already satisfied: packaging~=24.0 in /usr/local/lib/python3.10/dist-packages (from openxlab->opendatalab->openmim) (24.0)\n",
            "Collecting requests (from openmim)\n",
            "  Downloading requests-2.28.2-py3-none-any.whl (62 kB)\n",
            "\u001b[2K     \u001b[90m━━━━━━━━━━━━━━━━━━━━━━━━━━━━━━━━━━━━━━━━\u001b[0m \u001b[32m62.8/62.8 kB\u001b[0m \u001b[31m7.2 MB/s\u001b[0m eta \u001b[36m0:00:00\u001b[0m\n",
            "\u001b[?25hCollecting rich (from openmim)\n",
            "  Downloading rich-13.4.2-py3-none-any.whl (239 kB)\n",
            "\u001b[2K     \u001b[90m━━━━━━━━━━━━━━━━━━━━━━━━━━━━━━━━━━━━━━━━\u001b[0m \u001b[32m239.4/239.4 kB\u001b[0m \u001b[31m26.0 MB/s\u001b[0m eta \u001b[36m0:00:00\u001b[0m\n",
            "\u001b[?25hCollecting setuptools~=60.2.0 (from openxlab->opendatalab->openmim)\n",
            "  Downloading setuptools-60.2.0-py3-none-any.whl (953 kB)\n",
            "\u001b[2K     \u001b[90m━━━━━━━━━━━━━━━━━━━━━━━━━━━━━━━━━━━━━━━━\u001b[0m \u001b[32m953.1/953.1 kB\u001b[0m \u001b[31m56.6 MB/s\u001b[0m eta \u001b[36m0:00:00\u001b[0m\n",
            "\u001b[?25hCollecting tqdm (from opendatalab->openmim)\n",
            "  Downloading tqdm-4.65.2-py3-none-any.whl (77 kB)\n",
            "\u001b[2K     \u001b[90m━━━━━━━━━━━━━━━━━━━━━━━━━━━━━━━━━━━━━━━━\u001b[0m \u001b[32m77.1/77.1 kB\u001b[0m \u001b[31m7.1 MB/s\u001b[0m eta \u001b[36m0:00:00\u001b[0m\n",
            "\u001b[?25hCollecting urllib3<1.27,>=1.21.1 (from requests->openmim)\n",
            "  Downloading urllib3-1.26.18-py2.py3-none-any.whl (143 kB)\n",
            "\u001b[2K     \u001b[90m━━━━━━━━━━━━━━━━━━━━━━━━━━━━━━━━━━━━━━━━\u001b[0m \u001b[32m143.8/143.8 kB\u001b[0m \u001b[31m16.1 MB/s\u001b[0m eta \u001b[36m0:00:00\u001b[0m\n",
            "\u001b[?25hCollecting crcmod>=1.7 (from oss2~=2.17.0->openxlab->opendatalab->openmim)\n",
            "  Downloading crcmod-1.7.tar.gz (89 kB)\n",
            "\u001b[2K     \u001b[90m━━━━━━━━━━━━━━━━━━━━━━━━━━━━━━━━━━━━━━━━\u001b[0m \u001b[32m89.7/89.7 kB\u001b[0m \u001b[31m10.1 MB/s\u001b[0m eta \u001b[36m0:00:00\u001b[0m\n",
            "\u001b[?25h  Preparing metadata (setup.py) ... \u001b[?25l\u001b[?25hdone\n",
            "Collecting aliyun-python-sdk-kms>=2.4.1 (from oss2~=2.17.0->openxlab->opendatalab->openmim)\n",
            "  Downloading aliyun_python_sdk_kms-2.16.3-py2.py3-none-any.whl (98 kB)\n",
            "\u001b[2K     \u001b[90m━━━━━━━━━━━━━━━━━━━━━━━━━━━━━━━━━━━━━━━━\u001b[0m \u001b[32m98.1/98.1 kB\u001b[0m \u001b[31m10.5 MB/s\u001b[0m eta \u001b[36m0:00:00\u001b[0m\n",
            "\u001b[?25hCollecting aliyun-python-sdk-core>=2.13.12 (from oss2~=2.17.0->openxlab->opendatalab->openmim)\n",
            "  Downloading aliyun-python-sdk-core-2.15.1.tar.gz (443 kB)\n",
            "\u001b[2K     \u001b[90m━━━━━━━━━━━━━━━━━━━━━━━━━━━━━━━━━━━━━━━━\u001b[0m \u001b[32m443.1/443.1 kB\u001b[0m \u001b[31m37.1 MB/s\u001b[0m eta \u001b[36m0:00:00\u001b[0m\n",
            "\u001b[?25h  Preparing metadata (setup.py) ... \u001b[?25l\u001b[?25hdone\n",
            "Collecting jmespath<1.0.0,>=0.9.3 (from aliyun-python-sdk-core>=2.13.12->oss2~=2.17.0->openxlab->opendatalab->openmim)\n",
            "  Downloading jmespath-0.10.0-py2.py3-none-any.whl (24 kB)\n",
            "Requirement already satisfied: cryptography>=2.6.0 in /usr/local/lib/python3.10/dist-packages (from aliyun-python-sdk-core>=2.13.12->oss2~=2.17.0->openxlab->opendatalab->openmim) (42.0.7)\n",
            "Requirement already satisfied: cffi>=1.12 in /usr/local/lib/python3.10/dist-packages (from cryptography>=2.6.0->aliyun-python-sdk-core>=2.13.12->oss2~=2.17.0->openxlab->opendatalab->openmim) (1.16.0)\n",
            "Requirement already satisfied: pycparser in /usr/local/lib/python3.10/dist-packages (from cffi>=1.12->cryptography>=2.6.0->aliyun-python-sdk-core>=2.13.12->oss2~=2.17.0->openxlab->opendatalab->openmim) (2.22)\n",
            "Building wheels for collected packages: oss2, aliyun-python-sdk-core, crcmod\n",
            "  Building wheel for oss2 (setup.py) ... \u001b[?25l\u001b[?25hdone\n",
            "  Created wheel for oss2: filename=oss2-2.17.0-py3-none-any.whl size=112372 sha256=ea9775207ba93e0819ef7f53ca200314c9a00a034e36bd0b33f0f570443c62a5\n",
            "  Stored in directory: /root/.cache/pip/wheels/87/04/7b/7e61b8157fdf211c5131375240d0d86ca82e2a88ead9672c88\n",
            "  Building wheel for aliyun-python-sdk-core (setup.py) ... \u001b[?25l\u001b[?25hdone\n",
            "  Created wheel for aliyun-python-sdk-core: filename=aliyun_python_sdk_core-2.15.1-py3-none-any.whl size=535325 sha256=816d6f27c9f99359c9c49b80fb97e834eed31e19bac26e86ccd85826c702d2d2\n",
            "  Stored in directory: /root/.cache/pip/wheels/69/4b/8e/0a28e00f4cf43b273c18cce083804738d41013e017da922ce4\n",
            "  Building wheel for crcmod (setup.py) ... \u001b[?25l\u001b[?25hdone\n",
            "  Created wheel for crcmod: filename=crcmod-1.7-cp310-cp310-linux_x86_64.whl size=31407 sha256=01c8d39fd7e52c06c279031c2b5c335de5c8e0fbc55a68c650c097bab44bdf40\n",
            "  Stored in directory: /root/.cache/pip/wheels/85/4c/07/72215c529bd59d67e3dac29711d7aba1b692f543c808ba9e86\n",
            "Successfully built oss2 aliyun-python-sdk-core crcmod\n",
            "Installing collected packages: crcmod, urllib3, tqdm, setuptools, pycryptodome, ordered-set, jmespath, colorama, rich, requests, model-index, aliyun-python-sdk-core, aliyun-python-sdk-kms, oss2, openxlab, opendatalab, openmim\n",
            "  Attempting uninstall: urllib3\n",
            "    Found existing installation: urllib3 2.0.7\n",
            "    Uninstalling urllib3-2.0.7:\n",
            "      Successfully uninstalled urllib3-2.0.7\n",
            "  Attempting uninstall: tqdm\n",
            "    Found existing installation: tqdm 4.66.4\n",
            "    Uninstalling tqdm-4.66.4:\n",
            "      Successfully uninstalled tqdm-4.66.4\n",
            "  Attempting uninstall: setuptools\n",
            "    Found existing installation: setuptools 67.7.2\n",
            "    Uninstalling setuptools-67.7.2:\n",
            "      Successfully uninstalled setuptools-67.7.2\n",
            "  Attempting uninstall: rich\n",
            "    Found existing installation: rich 13.7.1\n",
            "    Uninstalling rich-13.7.1:\n",
            "      Successfully uninstalled rich-13.7.1\n",
            "  Attempting uninstall: requests\n",
            "    Found existing installation: requests 2.31.0\n",
            "    Uninstalling requests-2.31.0:\n",
            "      Successfully uninstalled requests-2.31.0\n",
            "\u001b[31mERROR: pip's dependency resolver does not currently take into account all the packages that are installed. This behaviour is the source of the following dependency conflicts.\n",
            "ipython 7.34.0 requires jedi>=0.16, which is not installed.\n",
            "cvxpy 1.3.4 requires setuptools>65.5.1, but you have setuptools 60.2.0 which is incompatible.\n",
            "google-colab 1.0.0 requires requests==2.31.0, but you have requests 2.28.2 which is incompatible.\n",
            "yfinance 0.2.38 requires requests>=2.31, but you have requests 2.28.2 which is incompatible.\u001b[0m\u001b[31m\n",
            "\u001b[0mSuccessfully installed aliyun-python-sdk-core-2.15.1 aliyun-python-sdk-kms-2.16.3 colorama-0.4.6 crcmod-1.7 jmespath-0.10.0 model-index-0.1.11 opendatalab-0.0.10 openmim-0.3.9 openxlab-0.1.0 ordered-set-4.1.0 oss2-2.17.0 pycryptodome-3.20.0 requests-2.28.2 rich-13.4.2 setuptools-60.2.0 tqdm-4.65.2 urllib3-1.26.18\n"
          ]
        },
        {
          "output_type": "display_data",
          "data": {
            "application/vnd.colab-display-data+json": {
              "pip_warning": {
                "packages": [
                  "_distutils_hack",
                  "pkg_resources",
                  "setuptools"
                ]
              },
              "id": "51dd8691cc704a6fb85ba32f3808d009"
            }
          },
          "metadata": {}
        }
      ]
    },
    {
      "cell_type": "code",
      "source": [
        "!mim install mmengine mmcv mmdet"
      ],
      "metadata": {
        "colab": {
          "base_uri": "https://localhost:8080/"
        },
        "id": "puJ3ZM9nQdTy",
        "outputId": "8777df2b-3420-46ff-a83a-49839b22e8ac"
      },
      "execution_count": 1,
      "outputs": [
        {
          "output_type": "stream",
          "name": "stdout",
          "text": [
            "Looking in links: https://download.openmmlab.com/mmcv/dist/cu121/torch2.3.0/index.html\n",
            "Collecting mmengine\n",
            "  Downloading mmengine-0.10.4-py3-none-any.whl (451 kB)\n",
            "\u001b[2K     \u001b[90m━━━━━━━━━━━━━━━━━━━━━━━━━━━━━━━━━━━━━━━━\u001b[0m \u001b[32m451.7/451.7 kB\u001b[0m \u001b[31m7.2 MB/s\u001b[0m eta \u001b[36m0:00:00\u001b[0m\n",
            "\u001b[?25hCollecting mmcv\n",
            "  Downloading https://download.openmmlab.com/mmcv/dist/cu121/torch2.3.0/mmcv-2.2.0-cp310-cp310-manylinux1_x86_64.whl (97.9 MB)\n",
            "\u001b[2K     \u001b[90m━━━━━━━━━━━━━━━━━━━━━━━━━━━━━━━━━━━━━━━━\u001b[0m \u001b[32m97.9/97.9 MB\u001b[0m \u001b[31m6.5 MB/s\u001b[0m eta \u001b[36m0:00:00\u001b[0m\n",
            "\u001b[?25hCollecting mmdet\n",
            "  Downloading mmdet-3.3.0-py3-none-any.whl (2.2 MB)\n",
            "\u001b[2K     \u001b[90m━━━━━━━━━━━━━━━━━━━━━━━━━━━━━━━━━━━━━━━━\u001b[0m \u001b[32m2.2/2.2 MB\u001b[0m \u001b[31m17.8 MB/s\u001b[0m eta \u001b[36m0:00:00\u001b[0m\n",
            "\u001b[?25hCollecting addict (from mmengine)\n",
            "  Downloading addict-2.4.0-py3-none-any.whl (3.8 kB)\n",
            "Requirement already satisfied: matplotlib in /usr/local/lib/python3.10/dist-packages (from mmengine) (3.7.1)\n",
            "Requirement already satisfied: numpy in /usr/local/lib/python3.10/dist-packages (from mmengine) (1.25.2)\n",
            "Requirement already satisfied: pyyaml in /usr/local/lib/python3.10/dist-packages (from mmengine) (6.0.1)\n",
            "Requirement already satisfied: rich in /usr/local/lib/python3.10/dist-packages (from mmengine) (13.4.2)\n",
            "Requirement already satisfied: termcolor in /usr/local/lib/python3.10/dist-packages (from mmengine) (2.4.0)\n",
            "Collecting yapf (from mmengine)\n",
            "  Downloading yapf-0.40.2-py3-none-any.whl (254 kB)\n",
            "\u001b[2K     \u001b[90m━━━━━━━━━━━━━━━━━━━━━━━━━━━━━━━━━━━━━━━━\u001b[0m \u001b[32m254.7/254.7 kB\u001b[0m \u001b[31m18.5 MB/s\u001b[0m eta \u001b[36m0:00:00\u001b[0m\n",
            "\u001b[?25hRequirement already satisfied: opencv-python>=3 in /usr/local/lib/python3.10/dist-packages (from mmengine) (4.8.0.76)\n",
            "Requirement already satisfied: packaging in /usr/local/lib/python3.10/dist-packages (from mmcv) (24.0)\n",
            "Requirement already satisfied: Pillow in /usr/local/lib/python3.10/dist-packages (from mmcv) (9.4.0)\n",
            "Requirement already satisfied: pycocotools in /usr/local/lib/python3.10/dist-packages (from mmdet) (2.0.7)\n",
            "Requirement already satisfied: scipy in /usr/local/lib/python3.10/dist-packages (from mmdet) (1.11.4)\n",
            "Requirement already satisfied: shapely in /usr/local/lib/python3.10/dist-packages (from mmdet) (2.0.4)\n",
            "Requirement already satisfied: six in /usr/local/lib/python3.10/dist-packages (from mmdet) (1.16.0)\n",
            "Collecting terminaltables (from mmdet)\n",
            "  Downloading terminaltables-3.1.10-py2.py3-none-any.whl (15 kB)\n",
            "Requirement already satisfied: tqdm in /usr/local/lib/python3.10/dist-packages (from mmdet) (4.65.2)\n",
            "Collecting mmcv\n",
            "  Downloading mmcv-2.1.0.tar.gz (471 kB)\n",
            "\u001b[2K     \u001b[90m━━━━━━━━━━━━━━━━━━━━━━━━━━━━━━━━━━━━━━━━\u001b[0m \u001b[32m471.4/471.4 kB\u001b[0m \u001b[31m23.1 MB/s\u001b[0m eta \u001b[36m0:00:00\u001b[0m\n",
            "\u001b[?25h  Preparing metadata (setup.py) ... \u001b[?25l\u001b[?25hdone\n",
            "Requirement already satisfied: contourpy>=1.0.1 in /usr/local/lib/python3.10/dist-packages (from matplotlib->mmengine) (1.2.1)\n",
            "Requirement already satisfied: cycler>=0.10 in /usr/local/lib/python3.10/dist-packages (from matplotlib->mmengine) (0.12.1)\n",
            "Requirement already satisfied: fonttools>=4.22.0 in /usr/local/lib/python3.10/dist-packages (from matplotlib->mmengine) (4.51.0)\n",
            "Requirement already satisfied: kiwisolver>=1.0.1 in /usr/local/lib/python3.10/dist-packages (from matplotlib->mmengine) (1.4.5)\n",
            "Requirement already satisfied: pyparsing>=2.3.1 in /usr/local/lib/python3.10/dist-packages (from matplotlib->mmengine) (3.1.2)\n",
            "Requirement already satisfied: python-dateutil>=2.7 in /usr/local/lib/python3.10/dist-packages (from matplotlib->mmengine) (2.8.2)\n",
            "Requirement already satisfied: markdown-it-py>=2.2.0 in /usr/local/lib/python3.10/dist-packages (from rich->mmengine) (3.0.0)\n",
            "Requirement already satisfied: pygments<3.0.0,>=2.13.0 in /usr/local/lib/python3.10/dist-packages (from rich->mmengine) (2.16.1)\n",
            "Requirement already satisfied: importlib-metadata>=6.6.0 in /usr/local/lib/python3.10/dist-packages (from yapf->mmengine) (7.1.0)\n",
            "Requirement already satisfied: platformdirs>=3.5.1 in /usr/local/lib/python3.10/dist-packages (from yapf->mmengine) (4.2.2)\n",
            "Requirement already satisfied: tomli>=2.0.1 in /usr/local/lib/python3.10/dist-packages (from yapf->mmengine) (2.0.1)\n",
            "Requirement already satisfied: zipp>=0.5 in /usr/local/lib/python3.10/dist-packages (from importlib-metadata>=6.6.0->yapf->mmengine) (3.18.2)\n",
            "Requirement already satisfied: mdurl~=0.1 in /usr/local/lib/python3.10/dist-packages (from markdown-it-py>=2.2.0->rich->mmengine) (0.1.2)\n",
            "Building wheels for collected packages: mmcv\n",
            "  Building wheel for mmcv (setup.py) ... \u001b[?25l\u001b[?25hdone\n",
            "  Created wheel for mmcv: filename=mmcv-2.1.0-cp310-cp310-linux_x86_64.whl size=28349080 sha256=b09a6115c73905bceb30cbb2a133a91bbb0103da72745889f8232f3e252cb5d8\n",
            "  Stored in directory: /root/.cache/pip/wheels/8b/09/35/94a7f7ba6a00e3810abd0492340e4cbba0ff3d443120a94120\n",
            "Successfully built mmcv\n",
            "Installing collected packages: addict, terminaltables, yapf, mmengine, mmcv, mmdet\n",
            "Successfully installed addict-2.4.0 mmcv-2.1.0 mmdet-3.3.0 mmengine-0.10.4 terminaltables-3.1.10 yapf-0.40.2\n"
          ]
        }
      ]
    },
    {
      "cell_type": "code",
      "source": [
        "!git clone https://github.com/open-mmlab/mmocr.git\n",
        "%cd mmocr\n",
        "!pip install -v -e ."
      ],
      "metadata": {
        "colab": {
          "base_uri": "https://localhost:8080/"
        },
        "id": "-HhUew2iQokS",
        "outputId": "4ac0aff8-066e-47d6-9025-390ebcbb4195"
      },
      "execution_count": 2,
      "outputs": [
        {
          "output_type": "stream",
          "name": "stdout",
          "text": [
            "Cloning into 'mmocr'...\n",
            "remote: Enumerating objects: 16390, done.\u001b[K\n",
            "remote: Counting objects: 100% (299/299), done.\u001b[K\n",
            "remote: Compressing objects: 100% (224/224), done.\u001b[K\n",
            "remote: Total 16390 (delta 105), reused 203 (delta 72), pack-reused 16091\u001b[K\n",
            "Receiving objects: 100% (16390/16390), 16.24 MiB | 19.40 MiB/s, done.\n",
            "Resolving deltas: 100% (10773/10773), done.\n",
            "/content/mmocr\n",
            "Using pip 23.1.2 from /usr/local/lib/python3.10/dist-packages/pip (python 3.10)\n",
            "Obtaining file:///content/mmocr\n",
            "  Running command python setup.py egg_info\n",
            "  running egg_info\n",
            "  creating /tmp/pip-pip-egg-info-0p3jcn6x/mmocr.egg-info\n",
            "  writing manifest file '/tmp/pip-pip-egg-info-0p3jcn6x/mmocr.egg-info/SOURCES.txt'\n",
            "  warning: no files found matching 'mmocr/.mim/model-index.yml'\n",
            "  warning: no files found matching 'mmocr/.mim/dicts/*.txt'\n",
            "  warning: no files found matching '*.py' under directory 'mmocr/.mim/configs'\n",
            "  warning: no files found matching '*.yml' under directory 'mmocr/.mim/configs'\n",
            "  warning: no files found matching '*.sh' under directory 'mmocr/.mim/tools'\n",
            "  warning: no files found matching '*.py' under directory 'mmocr/.mim/tools'\n",
            "  writing manifest file '/tmp/pip-pip-egg-info-0p3jcn6x/mmocr.egg-info/SOURCES.txt'\n",
            "  Preparing metadata (setup.py) ... \u001b[?25l\u001b[?25hdone\n",
            "Requirement already satisfied: imgaug in /usr/local/lib/python3.10/dist-packages (from mmocr==1.0.1) (0.4.0)\n",
            "Collecting lmdb (from mmocr==1.0.1)\n",
            "  Downloading lmdb-1.4.1-cp310-cp310-manylinux_2_17_x86_64.manylinux2014_x86_64.whl (299 kB)\n",
            "\u001b[2K     \u001b[90m━━━━━━━━━━━━━━━━━━━━━━━━━━━━━━━━━━━━━━━━\u001b[0m \u001b[32m299.2/299.2 kB\u001b[0m \u001b[31m5.5 MB/s\u001b[0m eta \u001b[36m0:00:00\u001b[0m\n",
            "\u001b[?25hRequirement already satisfied: matplotlib in /usr/local/lib/python3.10/dist-packages (from mmocr==1.0.1) (3.7.1)\n",
            "Requirement already satisfied: numpy in /usr/local/lib/python3.10/dist-packages (from mmocr==1.0.1) (1.25.2)\n",
            "Requirement already satisfied: opencv-python!=4.5.5.*,>=4.2.0.32 in /usr/local/lib/python3.10/dist-packages (from mmocr==1.0.1) (4.8.0.76)\n",
            "Collecting pyclipper (from mmocr==1.0.1)\n",
            "  Downloading pyclipper-1.3.0.post5-cp310-cp310-manylinux_2_12_x86_64.manylinux2010_x86_64.whl (908 kB)\n",
            "\u001b[2K     \u001b[90m━━━━━━━━━━━━━━━━━━━━━━━━━━━━━━━━━━━━━━━━\u001b[0m \u001b[32m908.3/908.3 kB\u001b[0m \u001b[31m13.2 MB/s\u001b[0m eta \u001b[36m0:00:00\u001b[0m\n",
            "\u001b[?25hRequirement already satisfied: pycocotools in /usr/local/lib/python3.10/dist-packages (from mmocr==1.0.1) (2.0.7)\n",
            "Collecting rapidfuzz>=2.0.0 (from mmocr==1.0.1)\n",
            "  Downloading rapidfuzz-3.9.1-cp310-cp310-manylinux_2_17_x86_64.manylinux2014_x86_64.whl (3.4 MB)\n",
            "\u001b[2K     \u001b[90m━━━━━━━━━━━━━━━━━━━━━━━━━━━━━━━━━━━━━━━━\u001b[0m \u001b[32m3.4/3.4 MB\u001b[0m \u001b[31m25.8 MB/s\u001b[0m eta \u001b[36m0:00:00\u001b[0m\n",
            "\u001b[?25hRequirement already satisfied: scikit-image in /usr/local/lib/python3.10/dist-packages (from mmocr==1.0.1) (0.19.3)\n",
            "Requirement already satisfied: six in /usr/local/lib/python3.10/dist-packages (from imgaug->mmocr==1.0.1) (1.16.0)\n",
            "Requirement already satisfied: scipy in /usr/local/lib/python3.10/dist-packages (from imgaug->mmocr==1.0.1) (1.11.4)\n",
            "Requirement already satisfied: Pillow in /usr/local/lib/python3.10/dist-packages (from imgaug->mmocr==1.0.1) (9.4.0)\n",
            "Requirement already satisfied: imageio in /usr/local/lib/python3.10/dist-packages (from imgaug->mmocr==1.0.1) (2.31.6)\n",
            "Requirement already satisfied: Shapely in /usr/local/lib/python3.10/dist-packages (from imgaug->mmocr==1.0.1) (2.0.4)\n",
            "Requirement already satisfied: networkx>=2.2 in /usr/local/lib/python3.10/dist-packages (from scikit-image->mmocr==1.0.1) (3.3)\n",
            "Requirement already satisfied: tifffile>=2019.7.26 in /usr/local/lib/python3.10/dist-packages (from scikit-image->mmocr==1.0.1) (2024.5.10)\n",
            "Requirement already satisfied: PyWavelets>=1.1.1 in /usr/local/lib/python3.10/dist-packages (from scikit-image->mmocr==1.0.1) (1.6.0)\n",
            "Requirement already satisfied: packaging>=20.0 in /usr/local/lib/python3.10/dist-packages (from scikit-image->mmocr==1.0.1) (24.0)\n",
            "Requirement already satisfied: contourpy>=1.0.1 in /usr/local/lib/python3.10/dist-packages (from matplotlib->mmocr==1.0.1) (1.2.1)\n",
            "Requirement already satisfied: cycler>=0.10 in /usr/local/lib/python3.10/dist-packages (from matplotlib->mmocr==1.0.1) (0.12.1)\n",
            "Requirement already satisfied: fonttools>=4.22.0 in /usr/local/lib/python3.10/dist-packages (from matplotlib->mmocr==1.0.1) (4.51.0)\n",
            "Requirement already satisfied: kiwisolver>=1.0.1 in /usr/local/lib/python3.10/dist-packages (from matplotlib->mmocr==1.0.1) (1.4.5)\n",
            "Requirement already satisfied: pyparsing>=2.3.1 in /usr/local/lib/python3.10/dist-packages (from matplotlib->mmocr==1.0.1) (3.1.2)\n",
            "Requirement already satisfied: python-dateutil>=2.7 in /usr/local/lib/python3.10/dist-packages (from matplotlib->mmocr==1.0.1) (2.8.2)\n",
            "Installing collected packages: pyclipper, lmdb, rapidfuzz, mmocr\n",
            "  Running setup.py develop for mmocr\n",
            "    Running command python setup.py develop\n",
            "    running develop\n",
            "    /usr/local/lib/python3.10/dist-packages/setuptools/command/easy_install.py:156: EasyInstallDeprecationWarning: easy_install command is deprecated. Use build and pip and other standards-based tools.\n",
            "      warnings.warn(\n",
            "    /usr/local/lib/python3.10/dist-packages/setuptools/command/install.py:34: SetuptoolsDeprecationWarning: setup.py install is deprecated. Use build and pip and other standards-based tools.\n",
            "      warnings.warn(\n",
            "    running egg_info\n",
            "    creating mmocr.egg-info\n",
            "    writing manifest file 'mmocr.egg-info/SOURCES.txt'\n",
            "    writing manifest file 'mmocr.egg-info/SOURCES.txt'\n",
            "    running build_ext\n",
            "Successfully installed lmdb-1.4.1 mmocr-1.0.1 pyclipper-1.3.0.post5 rapidfuzz-3.9.1\n"
          ]
        }
      ]
    },
    {
      "cell_type": "code",
      "source": [
        "from mmocr.apis import MMOCRInferencer\n",
        "import time\n",
        "infer = MMOCRInferencer(det = 'dbnetpp',rec='satrn')\n",
        "start_time = time.time()\n",
        "result = infer(\"/content/drive/MyDrive/test_1.png\",save_vis = True, return_vis = True)\n",
        "end_time = time.time()\n",
        "print(result['predictions'])\n",
        "print(f\"the time taken was {end_time - start_time}\")"
      ],
      "metadata": {
        "colab": {
          "base_uri": "https://localhost:8080/",
          "height": 235,
          "referenced_widgets": [
            "ecbbeb7da83e46739d86d1c621e5310c",
            "d6c9614d74524de1b6129577bf975cbf"
          ]
        },
        "id": "xIpQhMtfQ7p6",
        "outputId": "5e5659ba-78cc-462f-ede5-e1adc4e5e700"
      },
      "execution_count": 12,
      "outputs": [
        {
          "output_type": "stream",
          "name": "stdout",
          "text": [
            "Loads checkpoint by http backend from path: https://download.openmmlab.com/mmocr/textdet/dbnetpp/dbnetpp_resnet50-oclip_fpnc_1200e_icdar2015/dbnetpp_resnet50-oclip_fpnc_1200e_icdar2015_20221101_124139-4ecb39ac.pth\n"
          ]
        },
        {
          "output_type": "stream",
          "name": "stderr",
          "text": [
            "/usr/local/lib/python3.10/dist-packages/mmengine/visualization/visualizer.py:196: UserWarning: Failed to add <class 'mmengine.visualization.vis_backend.LocalVisBackend'>, please provide the `save_dir` argument.\n",
            "  warnings.warn(f'Failed to add {vis_backend.__class__}, '\n"
          ]
        },
        {
          "output_type": "stream",
          "name": "stdout",
          "text": [
            "Loads checkpoint by http backend from path: https://download.openmmlab.com/mmocr/textrecog/satrn/satrn_shallow_5e_st_mj/satrn_shallow_5e_st_mj_20220915_152443-5fd04a4c.pth\n"
          ]
        },
        {
          "output_type": "display_data",
          "data": {
            "text/plain": [
              "Output()"
            ],
            "application/vnd.jupyter.widget-view+json": {
              "version_major": 2,
              "version_minor": 0,
              "model_id": "ecbbeb7da83e46739d86d1c621e5310c"
            }
          },
          "metadata": {}
        },
        {
          "output_type": "stream",
          "name": "stdout",
          "text": [
            "The model and loaded state dict do not match exactly\n",
            "\n",
            "unexpected key in source state_dict: data_preprocessor.mean, data_preprocessor.std\n",
            "\n"
          ]
        },
        {
          "output_type": "display_data",
          "data": {
            "text/plain": [
              "\n"
            ],
            "text/html": [
              "<pre style=\"white-space:pre;overflow-x:auto;line-height:normal;font-family:Menlo,'DejaVu Sans Mono',consolas,'Courier New',monospace\">\n",
              "</pre>\n"
            ]
          },
          "metadata": {}
        },
        {
          "output_type": "display_data",
          "data": {
            "text/plain": [
              "\n"
            ],
            "text/html": [
              "<pre style=\"white-space:pre;overflow-x:auto;line-height:normal;font-family:Menlo,'DejaVu Sans Mono',consolas,'Courier New',monospace\">\n",
              "</pre>\n"
            ]
          },
          "metadata": {}
        },
        {
          "output_type": "display_data",
          "data": {
            "text/plain": [],
            "text/html": [
              "<pre style=\"white-space:pre;overflow-x:auto;line-height:normal;font-family:Menlo,'DejaVu Sans Mono',consolas,'Courier New',monospace\"></pre>\n"
            ]
          },
          "metadata": {}
        },
        {
          "output_type": "display_data",
          "data": {
            "text/plain": [
              "\n"
            ],
            "text/html": [
              "<pre style=\"white-space:pre;overflow-x:auto;line-height:normal;font-family:Menlo,'DejaVu Sans Mono',consolas,'Courier New',monospace\">\n",
              "</pre>\n"
            ]
          },
          "metadata": {}
        },
        {
          "output_type": "stream",
          "name": "stdout",
          "text": [
            "[{'rec_texts': ['I', '-', 'I', 'mg', 'aug', 'mo', 'nome', 'NQ', '-', 'PROJ', '-', 'I', '-', 'Lodour', 'inad', 'fc'], 'rec_scores': [0.17392081022262573, 0.9710023999214172, 0.14862284064292908, 0.7356070131063461, 0.5200738310813904, 0.947691947221756, 0.7724859341979027, 0.7861278653144836, 0.348018616437912, 0.8834877610206604, 0.6969400644302368, 0.14862284064292908, 0.6392971873283386, 0.8839503129323324, 0.6065101251006126, 0.5091852247714996], 'det_polygons': [[613.0285152409045, 63.63636363636363, 613.0285152409045, 60.90909090909091, 615.3023598820058, 60.90909090909091, 615.3023598820058, 63.63636363636363], [414.7492625368731, 46.81818181818182, 414.7492625368731, 44.54545454545455, 417.0231071779744, 44.54545454545455, 417.0231071779744, 46.81818181818182], [856.7846607669616, 43.18181818181818, 856.7846607669616, 40.90909090909091, 859.0585054080628, 40.90909090909091, 859.0585054080628, 43.18181818181818], [343.04479863439684, 63.99479259144176, 346.4058807583099, 31.072280190207742, 424.37121711063287, 39.024013172496446, 421.01013498671983, 71.94652210582386], [499.9824636453724, 63.81614685058594, 503.1620712055217, 25.282571965997867, 631.1644247499538, 35.83428816361861, 627.9848171898045, 74.36786304820667], [714.135661167381, 60.7374434037642, 715.162666193269, 29.685720963911574, 816.9459700232761, 33.048803156072445, 815.9189649973881, 64.10052212801847], [2.085957150895335, 28.85306271639737, 152.62671426568645, 27.3558911410245, 152.91013989593895, 55.82661368630149, 2.3693838654014563, 57.32378526167436], [821.9037396366265, 34.04545870694247, 896.707899005481, 28.294114199551668, 899.1208611922511, 59.647057273171164, 824.3167018233967, 65.39840004660866], [266.4945919370698, 30.454545454545453, 266.4945919370698, 28.18181818181818, 269.6779744346116, 28.18181818181818, 269.6779744346116, 30.454545454545453], [1647.1929319488613, 59.83362371271306, 1650.9789720983513, 15.234596946022727, 1848.5387661464092, 31.989010897549715, 1844.7527259969195, 76.58803766424005], [283.54845450222194, 29.318185286088422, 286.0496836074334, 26.818185286088422, 288.7782971767549, 29.54545801336115, 286.2770680715435, 32.04545801336115], [1032.7802359882005, 26.818181818181817, 1032.7802359882005, 24.545454545454543, 1035.5088495575221, 24.545454545454543, 1035.5088495575221, 26.818181818181817], [278.3185840707964, 26.818181818181817, 278.3185840707964, 24.545454545454543, 280.5924287118977, 24.545454545454543, 280.5924287118977, 26.818181818181817], [1019.2630734063881, 62.344970703125, 1019.7436007309334, 7.119895761663264, 1283.2366733307213, 9.410011985085227, 1282.756146006176, 64.63508605957031], [158.93947822623312, 21.795683774081144, 319.63952063576426, 5.7335749539462, 323.41276485776945, 43.44734885475852, 162.71270856979203, 59.50945767489346], [1444.3014829442445, 29.201126098632812, 1460.97515935157, 5.036233121698553, 1480.9223726435746, 18.786142522638492, 1464.2486962362493, 42.95103593306108]], 'det_scores': [0.32098591327667236, 0.3339541256427765, 0.3237985074520111, 0.6459811925888062, 0.7822426557540894, 0.8478814959526062, 0.8883124589920044, 0.6020575165748596, 0.3181787133216858, 0.8083252906799316, 0.30537348985671997, 0.3163190186023712, 0.3123786747455597, 0.7588727474212646, 0.6452908515930176, 0.5380458831787109]}]\n",
            "the time taken was 62.4752984046936\n"
          ]
        }
      ]
    },
    {
      "cell_type": "code",
      "source": [
        "start_time = time.time()\n",
        "result = infer(\"/content/drive/MyDrive/test_2.jpg\",save_vis = True, return_vis = True)\n",
        "end_time = time.time()\n",
        "\n",
        "\n",
        "print(result['predictions'])\n",
        "print(f\"the time taken was {end_time - start_time}\")"
      ],
      "metadata": {
        "colab": {
          "base_uri": "https://localhost:8080/",
          "height": 89,
          "referenced_widgets": [
            "34f5a6e9e1bc489b8443983928166d81",
            "286bd83237a04327b04e8335197f5eb7"
          ]
        },
        "id": "6V2bAJuBgVun",
        "outputId": "0ad0e012-aef4-4dcb-e9e1-55dddd774e4d"
      },
      "execution_count": 14,
      "outputs": [
        {
          "output_type": "display_data",
          "data": {
            "text/plain": [
              "Output()"
            ],
            "application/vnd.jupyter.widget-view+json": {
              "version_major": 2,
              "version_minor": 0,
              "model_id": "34f5a6e9e1bc489b8443983928166d81"
            }
          },
          "metadata": {}
        },
        {
          "output_type": "display_data",
          "data": {
            "text/plain": [
              "\n"
            ],
            "text/html": [
              "<pre style=\"white-space:pre;overflow-x:auto;line-height:normal;font-family:Menlo,'DejaVu Sans Mono',consolas,'Courier New',monospace\">\n",
              "</pre>\n"
            ]
          },
          "metadata": {}
        },
        {
          "output_type": "display_data",
          "data": {
            "text/plain": [
              "\n"
            ],
            "text/html": [
              "<pre style=\"white-space:pre;overflow-x:auto;line-height:normal;font-family:Menlo,'DejaVu Sans Mono',consolas,'Courier New',monospace\">\n",
              "</pre>\n"
            ]
          },
          "metadata": {}
        },
        {
          "output_type": "display_data",
          "data": {
            "text/plain": [],
            "text/html": [
              "<pre style=\"white-space:pre;overflow-x:auto;line-height:normal;font-family:Menlo,'DejaVu Sans Mono',consolas,'Courier New',monospace\"></pre>\n"
            ]
          },
          "metadata": {}
        },
        {
          "output_type": "display_data",
          "data": {
            "text/plain": [
              "\n"
            ],
            "text/html": [
              "<pre style=\"white-space:pre;overflow-x:auto;line-height:normal;font-family:Menlo,'DejaVu Sans Mono',consolas,'Courier New',monospace\">\n",
              "</pre>\n"
            ]
          },
          "metadata": {}
        },
        {
          "output_type": "stream",
          "name": "stdout",
          "text": [
            "[{'rec_texts': ['05.', 'Sister', '07', '43699', 'floggy', '993678', '78953', '1999', '04.', 'Sree', '293610', '6042', '06', 'G508', 'Sister', 'jozly', '03.', 'Yazhini', '1993', '(Married)', 'Mother', '02.', 'Amoravathi', '56405$', '251', '1972', '69356', 'josh', '5932', '01', 'Father', 'O&', '14697', '39.', 'sasagar', 'luas', '998316', 'slizpi', 'Manickau', '/1966', 'RELATIONSHIP', 'BIRTH', 'EOFIE', 'DATE', 'NUMBER', 'AADHAR', 'NAME', 'S.No', 'DETAILS', 'FAMILY', 'Theni', '2', '25531', '140', 'M2', 'magar', 'MUIT', 'TNHB', 'Ararmonipudux', 'ADDRESS', 'Father', 'RELATIOSHIP', 'ckavas', 'Manic', 'CONCERTING', 'ETHER', 'EOFI', 'NAME', 'asagary', 'DETAILS', 'NOMINEE', '822', 'ENUMBER', 'MOBILE', '207645011', 'FPRL', '_COOK', 'CODE', 'IFSC', '462', 'banka/cno', '1462', 'LOIS', '1000', '976', '1640', 'and', 'The', '62553).', 'Mull', 'Arann', 'Whagar', 'unmanipus', \"'clur\", 'ADRESS', '140', 'TINHB', 'M2', 'Sothira', 'pattiroads', 'Organization:', 'MALE', 'SEX', '/widow', 'VUNMARRIED', 'MARRIED', 'LISTATUST', 'MARITIAL', 'SNO:', 'IFYES', '/NO', '39-', 'YES/', 'DNOT', 'RICARDIN', 'AADHAAR', '722', '8053703', 'joys', '24', 'BASTER', 'EOFL', 'DATE', '/200K', 'NAME', 'HUSBAND', 'FATHER', 'MANIC', 'CKAVASAGAR', 'LAKS', 'NAME', 'SHIME', 'NARIYANAN', 'E.S.I.C.'], 'rec_scores': [0.9902239044507345, 0.9983777304490408, 0.768884539604187, 0.9252220511436462, 0.5835031320651373, 0.9975982507069906, 0.9216212391853332, 0.7429678700864315, 0.9986557165781657, 0.9861604422330856, 0.8786482214927673, 0.9988792389631271, 0.819498747587204, 0.7272598519921303, 0.9267266492048899, 0.5800393700599671, 0.9658908446629842, 0.972871116229466, 0.8137554973363876, 0.9050962792502509, 0.9998539090156555, 0.9046850601832072, 0.9702046811580658, 0.8738720168670019, 0.8131936391194662, 0.997286781668663, 0.9747750520706177, 0.9121072292327881, 0.9374538362026215, 0.9980762004852295, 0.9979001382986704, 0.9729096591472626, 0.8561702132225036, 0.8244113524754842, 0.8505305243389947, 0.45504458621144295, 0.9938459495703379, 0.8061383664608002, 0.9732206463813782, 0.8731664419174194, 0.9999951322873434, 0.9985029578208924, 0.6595376312732697, 0.9966485053300858, 0.8347629010677338, 0.9999996423721313, 0.9999466687440872, 0.9998206794261932, 0.8567317702940532, 0.996403306722641, 0.9800232768058776, 0.999850869178772, 0.9992764711380004, 0.9331893920898438, 0.9720418453216553, 0.8268236994743348, 0.6699780449271202, 0.9979609549045563, 0.9295418308331416, 0.9999896969114032, 0.9983184436957041, 0.9974410642277111, 0.9312301973501841, 0.9999862432479858, 0.350618090480566, 0.8150096654891967, 0.8286975845694542, 0.9996089935302734, 0.8307419802461352, 0.8918950046811785, 0.9995511174201965, 0.9976291259129842, 0.8047128043004445, 0.953076183795929, 0.9152346319622464, 0.8199522942304611, 0.8779192328453064, 0.9119761884212494, 0.9495909661054611, 0.8928112586339315, 0.9917865461773343, 0.9555085748434067, 0.47928765788674355, 0.8055358305573463, 0.6218755642573038, 0.9189098626375198, 0.6047755579153696, 0.8516463239987692, 0.9687262518065316, 0.9228489249944687, 0.9574538111686707, 0.7167629872759184, 0.8886279033290015, 0.6146885514259338, 0.9999995827674866, 0.7604419688383738, 0.9369806051254272, 0.9102707803249359, 0.9926072103636605, 0.8151474058628082, 0.8315281323515452, 0.9802999198436737, 0.989467183748881, 0.9335476060708364, 0.932763135433197, 0.9999984502792358, 0.8658601111835904, 0.9999995976686478, 0.89369997382164, 0.7355285942554474, 0.8996551235516866, 0.976278026898702, 0.6342442892491817, 0.7043300941586494, 0.8918837495148182, 0.88577943614551, 0.7134594917297363, 0.790669783949852, 0.5629193559288979, 0.9513981342315674, 0.25812455142537755, 0.5570925772190094, 0.9970588535070419, 0.8748628318309783, 0.9704691767692566, 0.9998211349759784, 0.9997947116692861, 0.9983530282974243, 0.9342345148324966, 0.998575285077095, 0.9999525994062424, 0.8834632456302642, 0.9667263031005859, 0.9929908812046051], 'det_polygons': [[145.828125, 1525.0418736692689, 145.828125, 1505.9190915542938, 174.515625, 1505.9190915542938, 174.515625, 1525.0418736692689], [928.8662252426147, 1472.9380114997339, 1029.5904178619385, 1465.0389509126596, 1032.1225776672363, 1497.3209009326206, 931.3983850479126, 1505.2199615196948], [640.6875, 1495.1625266146202, 640.6875, 1467.6735273243435, 672.9609375, 1467.6735273243435, 672.9609375, 1495.1625266146202], [390.8671875, 1461.6976579134137, 457.8046875, 1461.6976579134137, 457.8046875, 1498.7480482611782, 390.8671875, 1498.7480482611782], [683.71875, 1496.3577004968063, 683.71875, 1461.6976579134137, 731.53125, 1461.6976579134137, 731.53125, 1496.3577004968063], [457.8046875, 1496.3577004968063, 457.8046875, 1461.6976579134137, 521.15625, 1461.6976579134137, 521.15625, 1496.3577004968063], [517.5703125, 1493.9673527324344, 517.5703125, 1460.5024840312278, 583.3125, 1460.5024840312278, 583.3125, 1493.9673527324344], [733.1645178794861, 1461.2952788158711, 789.1429924964905, 1455.698153472099, 792.3857445716858, 1488.1216218838715, 736.4072699546814, 1493.7187472276437], [145.828125, 1476.0397444996452, 145.828125, 1456.91696238467, 175.7109375, 1456.91696238467, 175.7109375, 1476.0397444996452], [196.03125, 1450.9410929737403, 268.9453125, 1450.9410929737403, 268.9453125, 1484.4059616749466, 196.03125, 1484.4059616749466], [451.828125, 1442.5748757984386, 451.828125, 1410.305180979418, 508.0078125, 1410.305180979418, 508.0078125, 1442.5748757984386], [382.5, 1443.7700496806244, 382.5, 1410.305180979418, 448.2421875, 1410.305180979418, 448.2421875, 1443.7700496806244], [639.4921875, 1431.818310858765, 639.4921875, 1415.0858765081618, 663.3984375, 1415.0858765081618, 663.3984375, 1431.818310858765], [511.8275377750397, 1414.3232820401215, 571.2162716388702, 1407.4714575524529, 575.0744082927704, 1440.9048128798129, 515.6856744289398, 1447.7566373674813], [928.5301895141602, 1406.8913780412747, 1020.6038331985474, 1405.2763176316314, 1021.1610717773438, 1437.0330447541473, 929.0874280929565, 1438.6481051637907], [683.71875, 1437.7941802696948, 683.71875, 1403.1341376863022, 747.0703125, 1403.1341376863022, 747.0703125, 1437.7941802696948], [147.0234375, 1427.0376153300213, 147.0234375, 1406.7196593328601, 178.1015625, 1406.7196593328601, 178.1015625, 1427.0376153300213], [191.77349638938904, 1429.1173521086541, 192.99485421180725, 1401.4360628798129, 295.6446497440338, 1405.9640678367857, 294.4232919216156, 1433.6453570656272], [746.810953617096, 1405.4366565106016, 801.0519061088562, 1397.9560234984917, 805.1022820472717, 1427.3180259991573, 750.8613295555115, 1434.7986590112669], [1027.3616824150085, 1399.6255028361204, 1151.7033648490906, 1394.3350493063565, 1153.1747431755066, 1428.9069711591776, 1028.8330607414246, 1434.1974246889415], [916.0433177947998, 1359.55245471356, 1005.9454965591431, 1354.558460330354, 1007.2474708557129, 1377.9912798998625, 917.3452920913696, 1382.9852742830685], [145.828125, 1376.8403122782115, 145.828125, 1356.5223562810504, 178.1015625, 1356.5223562810504, 178.1015625, 1376.8403122782115], [186.4687317609787, 1378.035340265148, 186.4687317609787, 1351.7415148570574, 352.6171145439148, 1351.7415148570574, 352.6171145439148, 1378.035340265148], [454.21875, 1350.5464868701206, 513.984375, 1350.5464868701206, 513.984375, 1380.4258339247692, 454.21875, 1380.4258339247692], [625.6527099609375, 1352.9467555114443, 672.75461769104, 1347.9892349405607, 676.049168586731, 1379.283182332328, 628.9472608566284, 1384.2407029032115], [742.2890625, 1348.1561391057487, 805.640625, 1348.1561391057487, 805.640625, 1376.8403122782115, 742.2890625, 1376.8403122782115], [384.12265276908875, 1381.182592582838, 385.3874924182892, 1344.505402282758, 458.6677944660187, 1347.0320162099672, 457.40295481681824, 1383.709206510047], [683.71875, 1379.2306600425834, 683.71875, 1344.5706174591908, 730.3359375, 1344.5706174591908, 730.3359375, 1379.2306600425834], [515.3051719665527, 1348.1497197147798, 575.5957889556885, 1344.976789833215, 577.1641988754272, 1374.7735601767654, 516.8735818862915, 1377.9464900583303], [150.609375, 1324.2526614620297, 150.609375, 1312.3009226401703, 170.9296875, 1312.3009226401703, 170.9296875, 1324.2526614620297], [923.9765625, 1331.4235588598963, 923.9765625, 1307.5200812161772, 1006.453125, 1307.5200812161772, 1006.453125, 1331.4235588598963], [638.296875, 1331.4237047551455, 638.296875, 1307.5202271114265, 664.59375, 1307.5202271114265, 664.59375, 1331.4237047551455], [510.3984375, 1305.1298793470546, 565.3828125, 1305.1298793470546, 565.3828125, 1333.8140525195174, 510.3984375, 1333.8140525195174], [481.50483655929565, 1312.3833534560192, 497.16755962371826, 1306.1189032419934, 502.2785711288452, 1318.894950222343, 486.6158480644226, 1325.1594004363687], [294.046875, 1333.8140525195174, 294.046875, 1305.1298793470546, 357.3984375, 1305.1298793470546, 357.3984375, 1333.8140525195174], [274.17996633052826, 1311.7653411800256, 291.3471168279648, 1304.4087191298129, 299.2609187364578, 1322.872054717996, 282.0937682390213, 1330.2286767682087], [382.11125349998474, 1331.0160734286285, 382.7688796520233, 1303.4004370619678, 470.2047779560089, 1305.4820704788413, 469.54715180397034, 1333.097706845502], [670.5703125, 1332.6188786373314, 670.5703125, 1302.7395315826827, 735.1171875, 1302.7395315826827, 735.1171875, 1332.6188786373314], [179.95886027812958, 1325.9081348557265, 180.7508715391159, 1302.1505524612978, 276.4289470911026, 1305.3395308202848, 275.6369358301163, 1329.0971132147133], [738.8011779785156, 1301.4269120248182, 804.5433654785156, 1295.4510426138884, 807.4630680084229, 1327.5640459351712, 741.7208805084229, 1333.539915346101], [923.9765625, 1286.0070972320796, 923.9765625, 1268.0794889992903, 1051.875, 1268.0794889992903, 1051.875, 1286.0070972320796], [721.96875, 1265.6891412349185, 776.953125, 1265.6891412349185, 776.953125, 1284.8119233498935, 721.96875, 1284.8119233498935], [692.0859375, 1284.8119233498935, 692.0859375, 1265.6891412349185, 718.3828125, 1265.6891412349185, 718.3828125, 1284.8119233498935], [640.6875, 1265.6891412349185, 690.890625, 1265.6891412349185, 690.890625, 1283.6167494677075, 640.6875, 1283.6167494677075], [442.265625, 1263.2987934705463, 522.3515625, 1263.2987934705463, 522.3515625, 1281.2264017033356, 442.265625, 1281.2264017033356], [360.9843385219574, 1281.2262558080863, 360.9843385219574, 1263.298647575297, 438.6796510219574, 1263.298647575297, 438.6796510219574, 1281.2262558080863], [218.45687448978424, 1277.4393987175079, 218.94721233844757, 1259.298783420755, 277.63618791103363, 1260.8846647805403, 277.1458500623703, 1279.0252800772932], [148.21875, 1259.7132718239886, 194.8359375, 1259.7132718239886, 194.8359375, 1278.8360539389637, 148.21875, 1278.8360539389637], [606.0234375, 1233.4194464158977, 606.0234375, 1215.4918381831085, 678.9375, 1215.4918381831085, 678.9375, 1233.4194464158977], [535.5, 1232.2242725337119, 535.5, 1215.4918381831085, 603.6328125, 1215.4918381831085, 603.6328125, 1232.2242725337119], [484.1015625, 1140.1958836053939, 484.1015625, 1113.902058197303, 558.2109375, 1113.902058197303, 558.2109375, 1140.1958836053939], [600.6035664081573, 1115.7849822846433, 611.3450002670288, 1111.7573980327359, 617.0923347473145, 1127.0817973324388, 606.3509373664856, 1131.1093815843462], [612.2325110435486, 1110.451416708714, 674.593475818634, 1106.554262809672, 676.1283259391785, 1131.1088709509736, 613.767361164093, 1135.0060248500156], [512.7890625, 1067.2902767920511, 559.40625, 1067.2902767920511, 559.40625, 1095.9744499645137, 512.7890625, 1095.9744499645137], [473.34375, 1092.388928317956, 473.34375, 1067.2902767920511, 509.203125, 1067.2902767920511, 509.203125, 1092.388928317956], [742.2890625, 1092.388928317956, 742.2890625, 1064.8999290276793, 818.7890625, 1064.8999290276793, 818.7890625, 1092.388928317956], [657.421875, 1089.9985805535841, 657.421875, 1063.7047551454932, 741.09375, 1063.7047551454932, 741.09375, 1089.9985805535841], [567.7734375, 1089.9985805535841, 567.7734375, 1063.7047551454932, 647.859375, 1063.7047551454932, 647.859375, 1089.9985805535841], [835.3728561401367, 1065.5040083073657, 1051.8016061782837, 1063.6222513820196, 1052.0095310211182, 1087.523978282747, 835.5807809829712, 1089.4057352080931], [150.609375, 1076.8516678495387, 150.609375, 1060.1192334989353, 233.0859375, 1060.1192334989353, 233.0859375, 1076.8516678495387], [469.7578125, 1036.2157558552165, 469.7578125, 1012.3122782114975, 557.015625, 1012.3122782114975, 557.015625, 1036.2157558552165], [154.0959827899933, 1026.2348430083946, 154.27187991142273, 1012.1638297953447, 265.46337389945984, 1013.5536279400839, 265.2874767780304, 1027.6246411531338], [540.28125, 983.6281050390347, 540.28125, 960.9198012775017, 612.0, 960.9198012775017, 612.0, 983.6281050390347], [457.8046875, 959.7246273953158, 536.6953125, 959.7246273953158, 536.6953125, 982.4329311568488, 457.8046875, 982.4329311568488], [279.4760309457779, 978.7052345898576, 279.8352667093277, 960.0261199279742, 369.5654697418213, 961.751477146081, 369.2062339782715, 980.4305918079644], [241.453125, 978.847409510291, 241.453125, 960.9198012775017, 280.8984375, 960.9198012775017, 280.8984375, 978.847409510291], [210.375, 980.0425833924769, 210.375, 960.9198012775017, 239.0625, 960.9198012775017, 239.0625, 980.0425833924769], [153.0, 978.847409510291, 153.0, 960.9198012775017, 211.5703125, 960.9198012775017, 211.5703125, 978.847409510291], [613.1953125, 958.5294535131299, 683.71875, 958.5294535131299, 683.71875, 984.8232789212207, 613.1953125, 984.8232789212207], [619.171875, 933.430801987225, 619.171875, 915.5031937544358, 693.28125, 915.5031937544358, 693.28125, 933.430801987225], [528.1482517719269, 932.0907541224938, 528.4475905895233, 914.4315931483986, 616.9766263961792, 915.9319798920999, 616.6772146224976, 933.591140866195], [474.5390625, 807.9375443577005, 534.3046875, 807.9375443577005, 534.3046875, 836.6217175301632, 474.5390625, 836.6217175301632], [228.3046875, 825.8651525904896, 228.3046875, 811.5230660042583, 309.5859375, 811.5230660042583, 309.5859375, 825.8651525904896], [155.19023287296295, 825.7145157455975, 155.62443101406097, 807.9141281701894, 226.1642106771469, 809.634379054571, 225.7300125360489, 827.4347666299791], [532.6486937999725, 808.73624789994, 652.3618597984314, 804.9956396033867, 653.0907640457153, 828.3161198309417, 533.3775615692139, 832.0567281274951], [464.9765625, 785.2291676485428, 464.9765625, 762.5208638870098, 539.0859375, 762.5208638870098, 539.0859375, 785.2291676485428], [539.0859375, 784.0340667139815, 539.0859375, 757.7402413058907, 604.828125, 757.7402413058907, 604.828125, 784.0340667139815], [196.03125, 760.1305890702625, 247.4296875, 760.1305890702625, 247.4296875, 779.2533711852377, 196.03125, 779.2533711852377], [154.1953125, 779.2533711852377, 154.1953125, 760.1305890702625, 194.8359375, 760.1305890702625, 194.8359375, 779.2533711852377], [607.0894718170166, 758.160127833348, 662.1384859085083, 748.9863804532248, 666.6935720443726, 776.3138737025372, 611.6445579528809, 785.4876210826606], [155.21332347393036, 730.3540981663635, 155.50383460521698, 710.6027993174458, 277.48721158504486, 712.3964355122205, 277.19670045375824, 732.1477343611382], [459.7556426525116, 710.2084444586143, 541.1068575382233, 707.6665115302297, 541.8777115345001, 732.3302493180004, 460.52649664878845, 734.8721822463848], [545.0625, 730.2512420156139, 545.0625, 708.7381121362669, 577.3359375, 708.7381121362669, 577.3359375, 730.2512420156139], [577.4693012237549, 707.0212168426189, 629.2864336967468, 703.3204379491217, 631.0096564292908, 727.4423207810282, 579.1925239562988, 731.1430996745254], [639.8029074668884, 703.7422211148199, 673.4390187263489, 698.9375987651925, 677.1923174858093, 725.2074973523997, 643.5562062263489, 730.0121197020271], [678.9375, 727.860894251242, 678.9375, 697.9815471965933, 736.3125, 697.9815471965933, 736.3125, 727.860894251242], [521.15625, 669.2973740241306, 521.15625, 639.4180269694818, 571.359375, 639.4180269694818, 571.359375, 669.2973740241306], [486.4921875, 638.2228530872959, 519.9609375, 638.2228530872959, 519.9609375, 666.9070262597587, 486.4921875, 666.9070262597587], [592.2548003196716, 640.3725466379635, 688.3796954154968, 631.3619101465467, 690.7367606163025, 656.5011205517543, 594.6118655204773, 665.5117570431711], [476.4239559173584, 601.0345552551399, 535.048912525177, 599.1436069290886, 535.913733959198, 625.9492693455021, 477.2887773513794, 627.8402176715534], [688.7556381225586, 600.6532580211198, 761.8592405319214, 594.5619854680015, 763.4584379196167, 613.7506757618435, 690.3548355102539, 619.8419483149619], [535.8428206443787, 599.7185436327293, 647.6017670631409, 594.4804300236482, 648.9086294174194, 622.3563070412305, 537.1496829986572, 627.5943841764993], [758.4700655937195, 593.4161971277002, 879.3753705024719, 587.5190382037626, 880.5245747566223, 611.0749933636721, 759.6192698478699, 616.9721887614221], [879.9009461402893, 581.3145874110073, 937.1212792396545, 574.4489028746563, 940.5036692619324, 602.6316340753083, 883.2833361625671, 609.4973186116594], [156.5859192609787, 582.0496806245565, 156.5859192609787, 564.1220723917672, 225.9140442609787, 564.1220723917672, 225.9140442609787, 582.0496806245565], [530.71875, 586.8303761533002, 530.71875, 556.9510290986515, 586.8984375, 556.9510290986515, 586.8984375, 586.8303761533002], [610.8046875, 579.6593328601845, 610.8046875, 556.9510290986515, 694.4765625, 556.9510290986515, 694.4765625, 579.6593328601845], [469.7578125, 554.5606813342796, 516.375, 554.5606813342796, 516.375, 584.4400283889283, 469.7578125, 584.4400283889283], [740.2076253890991, 554.0606618411496, 850.56800365448, 547.472761859447, 851.9403076171875, 570.455932270643, 741.5799293518066, 577.0438322523454], [859.627836227417, 545.7136663649419, 1017.6127796173096, 534.1551152399197, 1019.4099798202515, 558.7141731863245, 861.4250364303589, 570.2727243113467], [576.140625, 536.6330731014904, 576.140625, 517.5102909865152, 649.0546875, 517.5102909865152, 649.0546875, 536.6330731014904], [509.203125, 535.4378992193044, 509.203125, 516.3151171043293, 570.1640625, 516.3151171043293, 570.1640625, 535.4378992193044], [156.5859375, 533.0475514549325, 156.5859375, 513.9247693399574, 192.4453125, 513.9247693399574, 192.4453125, 533.0475514549325], [729.140625, 487.63094393186657, 729.140625, 469.70333569907734, 805.640625, 469.70333569907734, 805.640625, 487.63094393186657], [609.609375, 468.5081618168914, 721.96875, 468.5081618168914, 721.96875, 486.4357700496806, 609.609375, 486.4357700496806], [509.203125, 468.5081618168914, 594.0703125, 468.5081618168914, 594.0703125, 485.2405961674947, 509.203125, 485.2405961674947], [246.234375, 466.1178140525195, 316.7578125, 466.1178140525195, 316.7578125, 482.85024840312275, 246.234375, 482.85024840312275], [161.19010484218597, 479.8854380946704, 161.51468646526337, 465.60506519888884, 245.25196659564972, 467.5079769353819, 244.92738497257233, 481.7883498311635], [702.84375, 439.82398864442865, 702.84375, 419.50603264726755, 743.484375, 419.50603264726755, 743.484375, 439.82398864442865], [649.0546875, 438.6288147622427, 649.0546875, 419.50603264726755, 704.0390625, 419.50603264726755, 704.0390625, 438.6288147622427], [554.625, 418.3108587650816, 590.484375, 418.3108587650816, 590.484375, 438.6288147622427, 554.625, 438.6288147622427], [751.8515625, 442.21433640880053, 751.8515625, 415.9205110007097, 791.296875, 415.9205110007097, 791.296875, 442.21433640880053], [508.0078125, 438.6288147622427, 508.0078125, 415.9205110007097, 559.40625, 415.9205110007097, 559.40625, 438.6288147622427], [301.21875, 417.11568488289566, 335.8828125, 417.11568488289566, 335.8828125, 436.23846699787083, 301.21875, 436.23846699787083], [249.8203125, 435.0432931156849, 249.8203125, 417.11568488289566, 307.1953125, 417.11568488289566, 307.1953125, 435.0432931156849], [157.78125, 435.0432931156849, 157.78125, 417.11568488289566, 251.015625, 417.11568488289566, 251.015625, 435.0432931156849], [790.6199154853821, 415.3282857100282, 848.8517117500305, 411.44659670741106, 850.7557196617126, 440.00384101299124, 792.5239233970642, 443.88553001560837], [853.384473323822, 415.38875929085896, 986.5564684867859, 404.9157417681811, 988.6739459037781, 431.83531190047796, 855.5019507408142, 442.30832942315584], [509.203125, 394.4073811213627, 509.203125, 365.7232079488999, 561.796875, 365.7232079488999, 561.796875, 394.4073811213627], [457.8679039478302, 388.8041281771203, 459.68195700645447, 365.2240273534532, 506.57338643074036, 368.83063086353354, 504.7593333721161, 392.41073168720055], [238.69075226783752, 385.1606861165942, 239.25331664085388, 366.5982147065184, 295.5986144542694, 368.30548091371315, 295.03605008125305, 386.86795232378904], [209.1796875, 387.236337828247, 209.1796875, 366.91838183108587, 236.671875, 366.91838183108587, 236.671875, 387.236337828247], [158.9765625, 366.91838183108587, 209.1796875, 366.91838183108587, 209.1796875, 386.04116394606103, 158.9765625, 386.04116394606103], [577.9265534877777, 364.04114514601997, 647.3879327774048, 358.5579639919435, 649.2586727142334, 382.25084184331195, 579.7973299026489, 387.7340229973884], [339.46875, 319.11142654364795, 395.6484375, 319.11142654364795, 395.6484375, 335.84386089425124, 339.46875, 335.84386089425124], [246.234375, 319.11142654364795, 337.078125, 319.11142654364795, 337.078125, 335.84386089425124, 246.234375, 335.84386089425124], [160.1718567609787, 335.8438244204389, 160.1718567609787, 319.11139006983564, 230.6952942609787, 319.11139006983564, 230.6952942609787, 335.8438244204389], [456.4545986652374, 317.3456928153001, 534.1666181087494, 315.79161661986006, 534.5647394657135, 335.69523010903674, 456.85272002220154, 337.2493063044768], [540.019228219986, 317.2765749409488, 695.519980430603, 313.70228722858633, 695.9654502868652, 333.07586327709146, 540.4646615982056, 336.65015098945395], [459.0, 290.4272533711852, 459.0, 267.7189496096522, 519.9609375, 267.7189496096522, 519.9609375, 290.4272533711852], [160.171875, 286.8417317246274, 160.171875, 268.91412349183815, 217.546875, 268.91412349183815, 217.546875, 286.8417317246274], [516.375, 289.23207948899926, 516.375, 266.5237757274663, 585.703125, 266.5237757274663, 585.703125, 289.23207948899926], [596.845306634903, 271.6671121352272, 770.6274676322937, 262.38211962752007, 771.9747476577759, 287.59125033095, 598.1925501823425, 296.87624283865716], [534.3046875, 218.71682044002839, 534.3046875, 178.08090844570617, 700.453125, 178.08090844570617, 700.453125, 218.71682044002839]], 'det_scores': [0.7091132998466492, 0.8258697986602783, 0.6867170929908752, 0.872765064239502, 0.8492249846458435, 0.8520073890686035, 0.8786647915840149, 0.8581729531288147, 0.7369873523712158, 0.8528657555580139, 0.8701054453849792, 0.8821540474891663, 0.4708399474620819, 0.865570604801178, 0.8949202299118042, 0.82185959815979, 0.7087153792381287, 0.8448777198791504, 0.8495488166809082, 0.8928640484809875, 0.8385253548622131, 0.7428053021430969, 0.8072181344032288, 0.8673702478408813, 0.829352617263794, 0.8496437072753906, 0.794471025466919, 0.8503490686416626, 0.830975353717804, 0.5399026274681091, 0.8273137807846069, 0.6123277544975281, 0.8663469552993774, 0.44567909836769104, 0.8559931516647339, 0.681345522403717, 0.7522992491722107, 0.8418852090835571, 0.8286528587341309, 0.8730952739715576, 0.8445646166801453, 0.8295102715492249, 0.7289952039718628, 0.8078187704086304, 0.8478782176971436, 0.8149157166481018, 0.8887185454368591, 0.8141017556190491, 0.8681591153144836, 0.8500151038169861, 0.8368024826049805, 0.4330991208553314, 0.8269054293632507, 0.8190574049949646, 0.8052454590797424, 0.8290765285491943, 0.8264054656028748, 0.8639262914657593, 0.8425408601760864, 0.8318124413490295, 0.8424481749534607, 0.8185964822769165, 0.8328171372413635, 0.8617689609527588, 0.8551856875419617, 0.7810434103012085, 0.7397698163986206, 0.8525288701057434, 0.825056791305542, 0.8682809472084045, 0.8669969439506531, 0.8230024576187134, 0.8640977740287781, 0.8516680598258972, 0.8306636214256287, 0.8435721397399902, 0.832068920135498, 0.869263231754303, 0.8118941783905029, 0.7958216667175293, 0.8103813529014587, 0.7736155986785889, 0.7998960614204407, 0.8704511523246765, 0.74302077293396, 0.7412357330322266, 0.8325455784797668, 0.7604921460151672, 0.8174842000007629, 0.8403826355934143, 0.7773967385292053, 0.8617914319038391, 0.7530431151390076, 0.8349975943565369, 0.7909168601036072, 0.8076437711715698, 0.8357468843460083, 0.8325810432434082, 0.8286680579185486, 0.8472065925598145, 0.8648841381072998, 0.8251405954360962, 0.7884700894355774, 0.859231173992157, 0.891292929649353, 0.862573504447937, 0.8278864622116089, 0.849511444568634, 0.7917463183403015, 0.7165881991386414, 0.8274219632148743, 0.73046875, 0.796078085899353, 0.7806495428085327, 0.8292273879051208, 0.8415074348449707, 0.8458375930786133, 0.7973153591156006, 0.7779013514518738, 0.8153020739555359, 0.8456169366836548, 0.7561870813369751, 0.8359211683273315, 0.7984238266944885, 0.8572857975959778, 0.8453679084777832, 0.8122897148132324, 0.8272043466567993, 0.7563010454177856, 0.816774845123291, 0.810261607170105, 0.7771399617195129, 0.8608465194702148, 0.9287833571434021]}]\n",
            "the time taken was 418.82040905952454\n"
          ]
        }
      ]
    },
    {
      "cell_type": "code",
      "source": [
        "start_time = time.time()\n",
        "result = infer(\"/content/drive/MyDrive/test_3.jpg\",save_vis = True, return_vis = True)\n",
        "end_time = time.time()\n",
        "\n",
        "print(result['predictions'])\n",
        "print(f\"the time taken was {end_time - start_time}\")"
      ],
      "metadata": {
        "colab": {
          "base_uri": "https://localhost:8080/",
          "height": 89,
          "referenced_widgets": [
            "02bed5d99c7f4327be43b435d5f491a1",
            "81226af9b7394a2bb5a0d3d4ce72ab4a"
          ]
        },
        "id": "69TA2k0kgXkD",
        "outputId": "73b91bda-7dd2-4a95-b52e-eeefbbde4b5a"
      },
      "execution_count": 15,
      "outputs": [
        {
          "output_type": "display_data",
          "data": {
            "text/plain": [
              "Output()"
            ],
            "application/vnd.jupyter.widget-view+json": {
              "version_major": 2,
              "version_minor": 0,
              "model_id": "02bed5d99c7f4327be43b435d5f491a1"
            }
          },
          "metadata": {}
        },
        {
          "output_type": "display_data",
          "data": {
            "text/plain": [
              "\n"
            ],
            "text/html": [
              "<pre style=\"white-space:pre;overflow-x:auto;line-height:normal;font-family:Menlo,'DejaVu Sans Mono',consolas,'Courier New',monospace\">\n",
              "</pre>\n"
            ]
          },
          "metadata": {}
        },
        {
          "output_type": "display_data",
          "data": {
            "text/plain": [
              "\n"
            ],
            "text/html": [
              "<pre style=\"white-space:pre;overflow-x:auto;line-height:normal;font-family:Menlo,'DejaVu Sans Mono',consolas,'Courier New',monospace\">\n",
              "</pre>\n"
            ]
          },
          "metadata": {}
        },
        {
          "output_type": "display_data",
          "data": {
            "text/plain": [],
            "text/html": [
              "<pre style=\"white-space:pre;overflow-x:auto;line-height:normal;font-family:Menlo,'DejaVu Sans Mono',consolas,'Courier New',monospace\"></pre>\n"
            ]
          },
          "metadata": {}
        },
        {
          "output_type": "display_data",
          "data": {
            "text/plain": [
              "\n"
            ],
            "text/html": [
              "<pre style=\"white-space:pre;overflow-x:auto;line-height:normal;font-family:Menlo,'DejaVu Sans Mono',consolas,'Courier New',monospace\">\n",
              "</pre>\n"
            ]
          },
          "metadata": {}
        },
        {
          "output_type": "stream",
          "name": "stdout",
          "text": [
            "[{'rec_texts': ['amwk', 'long', 'memory.', '(outgunsky', 'I', 'guess', 'Position', 'nooles', 'are', 'He', 'The', 'disk', 'not', 'Larid', 'insertion', 'remo', 'on', 'noual', 'element', 'from', 'array', 'Unlike', 'allow', 'linked', 'Lists', 'efferent', 'L', 'noole', 'wmt', 'Me', 'Shut', '>condone.com', '(v)', 'Each', 'nook', '(ordain', 'and', 'old', 'reference', 'Mr.', 'I', 'obries', 'nooks', 'connected', 'pointers', 'Linear', 'data', 'Minihire', 'Mat', 'consists', 'Linked', '>list', 'algority', 'And'], 'rec_scores': [0.5685238987207413, 0.674705982208252, 0.9850765211241586, 0.7299963295459747, 0.3127444088459015, 0.7907805681228638, 0.9696657285094261, 0.9364943901697794, 0.9999999205271403, 0.8877591788768768, 0.8823582927385966, 0.6928450018167496, 0.9945490757624308, 0.7460274934768677, 0.9312193128797743, 0.7695117816329002, 0.6636834442615509, 0.8325683891773223, 0.9938043781689235, 0.9999853670597076, 0.8603206276893616, 0.9882515867551168, 0.9084719061851502, 0.8965600281953812, 0.8032489895820618, 0.8561932072043419, 0.9552811980247498, 0.9561274409294128, 0.6769735912481943, 0.3435104936361313, 0.48858044669032097, 0.5487662007411321, 0.9313544233640035, 0.9239837676286697, 0.7545826062560081, 0.9472787891115461, 0.99850861231486, 0.7549619277318319, 0.9614520404073927, 0.7922646403312683, 0.40646499395370483, 0.8595010638237, 0.9064456820487976, 0.8840696215629578, 0.9937363266944885, 0.9148475825786591, 0.9128302186727524, 0.8456592634320259, 0.569338838259379, 0.9557261690497398, 0.9173236191272736, 0.7348752021789551, 0.5976933669298887, 0.5134860475858053], 'det_polygons': [[3278.3364096840655, 2976.030707359314, 3284.647936698718, 2862.448811531067, 3555.3632240155675, 2877.484917640686, 3549.0516970009157, 2991.066813468933], [1523.8095238095236, 2692.3828125, 1523.8095238095236, 2636.71875, 1623.4432234432234, 2636.71875, 1623.4432234432234, 2692.3828125], [1594.139194139194, 2589.84375, 1594.139194139194, 2475.5859375, 1922.344322344322, 2475.5859375, 1922.344322344322, 2589.84375], [735.5311355311355, 2666.015625, 735.5311355311355, 2452.1484375, 1283.5164835164835, 2452.1484375, 1283.5164835164835, 2666.015625], [3270.32967032967, 2381.8359375, 3270.32967032967, 2367.1875, 3284.981684981685, 2367.1875, 3284.981684981685, 2381.8359375], [3046.7601734203295, 2326.22230052948, 3316.458118704212, 2310.3615045547485, 3322.5314073946884, 2413.5775566101074, 3052.8334621108056, 2429.438352584839], [730.876947759272, 2251.0340809822083, 1064.0982715201465, 2225.407898426056, 1074.906278617216, 2365.877687931061, 741.6849101419414, 2391.503870487213], [2427.197802197802, 2231.4371466636658, 2663.410385187729, 2210.445463657379, 2672.444124885531, 2312.051475048065, 2436.231541895604, 2333.043158054352], [2738.9805832188645, 2227.016508579254, 2911.3038003663, 2215.5309319496155, 2917.1388507326005, 2303.0328154563904, 2744.8156335851645, 2314.518392086029], [1384.2920995020604, 2345.0006246566772, 1390.6846490098442, 2204.3999433517456, 1557.107443337912, 2211.9626998901367, 1550.7147149725274, 2352.5633811950684], [2212.454212454212, 2334.9609375, 2212.454212454212, 2206.0546875, 2385.3479853479853, 2206.0546875, 2385.3479853479853, 2334.9609375], [1673.260073260073, 2349.609375, 1673.260073260073, 2191.40625, 1898.9010989010987, 2191.40625, 1898.9010989010987, 2349.609375], [3021.245421245421, 2311.5234375, 3021.245421245421, 2173.828125, 3220.5128205128203, 2173.828125, 3220.5128205128203, 2311.5234375], [3258.627017513736, 2170.1433062553406, 3559.3374399038457, 2144.374430179596, 3569.8886074862635, 2267.4381136894226, 3269.178185096154, 2293.2069897651672], [770.1912345467033, 2000.735878944397, 1161.9092333447802, 1983.1348657608032, 1166.447566105769, 2084.0874910354614, 774.7295673076923, 2101.688504219055], [1512.3077280792124, 1992.5177693367004, 1745.349881238553, 1981.6812872886658, 1749.287610176282, 2066.3228631019592, 1516.2454570169414, 2077.159345149994], [3275.7104223901097, 2047.275424003601, 3282.7001774267396, 1970.407247543335, 3428.5478193681315, 1983.662724494934, 3421.5580643315016, 2060.5309009552], [1752.3809523809523, 2062.5, 1752.3809523809523, 1936.5234375, 1995.6043956043954, 1936.5234375, 1995.6043956043954, 2062.5], [2315.0183150183148, 2044.921875, 2315.0183150183148, 1933.59375, 2739.9267399267396, 1933.59375, 2739.9267399267396, 2044.921875], [2877.3959764194137, 1934.8123669624329, 3190.489068223443, 1914.7472977638245, 3199.010559752747, 2047.6521849632263, 2885.917467948718, 2067.7172541618347], [1273.3329577323716, 1895.8364725112915, 1275.3502926110348, 1742.5553798675537, 1586.3048735119046, 1746.6459274291992, 1584.2873597756409, 1899.927020072937], [790.3795179429944, 1702.7907371520996, 1155.3497202667124, 1690.062403678894, 1160.6102800194597, 1840.8257961273193, 795.6400776957418, 1853.554129600525], [2680.05862952152, 1674.7055053710938, 2995.5441205929487, 1661.1878871917725, 3001.4609088827838, 1799.2154359817505, 2685.975596668956, 1812.7330541610718], [1929.223185668498, 1681.4310550689697, 2309.4426081730767, 1661.2114906311035, 2316.5775955815016, 1795.31729221344, 1936.3581730769229, 1815.5368566513062], [2350.1831501831502, 1658.203125, 2581.6849816849817, 1658.203125, 2581.6849816849817, 1792.96875, 2350.1831501831502, 1792.96875], [3301.375057234432, 1680.7799935340881, 3732.491271749084, 1628.8989186286926, 3749.13576007326, 1767.141044139862, 3318.0195455586077, 1819.0221190452576], [3076.9230769230767, 1784.1796875, 3076.9230769230767, 1664.0625, 3220.5128205128203, 1664.0625, 3220.5128205128203, 1784.1796875], [1120.3273451808607, 1460.3531956672668, 1335.5041280334249, 1454.975187778473, 1338.2880465888277, 1566.3068890571594, 1123.1112637362637, 1571.6848969459534], [783.6483909970237, 1479.3164134025574, 1050.3150576636904, 1441.2304759025574, 1066.3736084878662, 1553.6132454872131, 799.7069418211996, 1591.6991829872131], [1602.940418956044, 1429.9801290035248, 1780.3256639194137, 1424.0687191486359, 1784.368203411172, 1545.320749282837, 1606.982958447802, 1551.2319803237915], [1875.2752618475274, 1400.4020690917969, 2125.2148079784797, 1384.7846388816833, 2133.652594150641, 1519.7553634643555, 1883.7130480196886, 1535.372793674469], [2662.0025970123625, 1510.7563734054565, 2671.058157337454, 1370.4319596290588, 3087.897779304029, 1397.3182439804077, 3078.842576694139, 1537.6426577568054], [1131.5316112923533, 1433.171421289444, 1148.4805152529761, 1331.5033614635468, 1287.7141819768772, 1354.7033965587616, 1270.7652780162546, 1456.3714563846588], [789.4636775984432, 1250.5438327789307, 1032.3138450091574, 1210.9045386314392, 1054.0641812614467, 1344.0930247306824, 811.2140138507325, 1383.7323188781738], [1171.6968578296703, 1231.007158756256, 1413.717304830586, 1200.212001800537, 1428.137698889652, 1313.4872317314148, 1186.1172518887363, 1344.2823886871338], [1515.7543140453295, 1218.356966972351, 1842.4985333676739, 1194.6855783462524, 1849.9683422046703, 1297.7449893951416, 1523.224122882326, 1321.4163780212402], [2323.6417553800366, 1173.0321049690247, 2562.8970638736264, 1164.4892692565918, 2566.966074290293, 1278.392493724823, 2327.710765796703, 1286.9353294372559], [1982.4805402930401, 1174.020767211914, 2211.3163203983513, 1163.8526916503906, 2216.836223672161, 1288.021445274353, 1988.0004435668498, 1298.1895208358765], [2742.1147049565016, 1156.8229794502258, 3196.670744619963, 1152.5757908821106, 3197.8043440934066, 1273.8597393035889, 2743.2484832875457, 1278.106927871704], [3452.014652014652, 1262.6953125, 3452.014652014652, 1157.2265625, 3598.5347985347985, 1157.2265625, 3598.5347985347985, 1262.6953125], [1025.6410256410256, 996.09375, 1025.6410256410256, 969.7265625, 1043.2234432234432, 969.7265625, 1043.2234432234432, 996.09375], [624.8055370736034, 948.0312466621399, 863.7770432692307, 942.0583248138428, 866.7752332303113, 1061.954140663147, 627.8036823202839, 1067.927062511444], [1133.2804809123168, 926.0831773281097, 1375.204881381639, 915.089339017868, 1380.4734897264193, 1030.97203373909, 1138.549089257097, 1041.9658720493317], [1502.310303628663, 911.7476642131805, 1982.0736392513736, 884.8012983798981, 1988.3651342147434, 996.763676404953, 1508.6017985920328, 1023.7100422382355], [2296.5126345009157, 883.7016820907593, 2657.363567422161, 879.6932101249695, 2658.586953411172, 989.7707104682922, 2297.7360204899264, 993.779182434082], [1365.0074941334706, 695.4978704452515, 1650.7830385760071, 682.7050745487213, 1655.4326207646518, 786.5227460861206, 1369.6571657509157, 799.3155419826508], [1750.9368561126373, 680.152639746666, 1957.768858745421, 670.753464102745, 1963.3273952609889, 793.0151224136353, 1756.495392628205, 802.4142980575562], [2041.6106842376373, 660.2705419063568, 2496.782530620421, 623.7031817436218, 2506.1557420444137, 740.3208017349243, 2050.98389566163, 776.8881618976593], [2638.9804043612635, 633.8134557008743, 2902.2831172733513, 614.6688312292099, 2911.248891082875, 737.9160672426224, 2647.9461781707873, 757.0606470108032], [2942.081079727564, 603.517010807991, 3266.3236177884614, 593.8404947519302, 3270.144373855311, 721.8018919229507, 2945.901656936813, 731.4784079790115], [545.4838008671016, 393.50706338882446, 853.6049643715659, 359.2797517776489, 867.2921316964286, 482.43382573127747, 559.1709234775641, 516.661137342453], [908.4249084249084, 486.328125, 908.4249084249084, 351.5625, 1139.9267399267399, 351.5625, 1139.9267399267399, 486.328125], [3005.892642513736, 402.49599516391754, 3011.2132984203295, 267.7476033568382, 3323.5473185668498, 280.0735831260681, 3318.2266626602564, 414.82195258140564], [2831.0260702838827, 393.6609774827957, 2835.6087597298533, 256.21598213911057, 3030.361793154762, 262.7061456441879, 3025.779103708791, 400.15116333961487]], 'det_scores': [0.858903706073761, 0.4299490749835968, 0.874040961265564, 0.9141063690185547, 0.33466431498527527, 0.7575623989105225, 0.903225302696228, 0.8701826333999634, 0.8396164774894714, 0.8336396217346191, 0.8579676747322083, 0.9004985094070435, 0.8868110775947571, 0.9180447459220886, 0.8820730447769165, 0.8736042976379395, 0.7292950749397278, 0.8975831866264343, 0.9149519205093384, 0.8930003046989441, 0.8635587096214294, 0.9171214699745178, 0.9216243028640747, 0.9362169504165649, 0.9160845875740051, 0.8926531672477722, 0.688169538974762, 0.8768512010574341, 0.8818879127502441, 0.8757432699203491, 0.8900259137153625, 0.8718689680099487, 0.7521927356719971, 0.9001069068908691, 0.8848085999488831, 0.9149180054664612, 0.8967397212982178, 0.8906121253967285, 0.9210334420204163, 0.8286345601081848, 0.41150134801864624, 0.9070368409156799, 0.8611143827438354, 0.8904109597206116, 0.9123435616493225, 0.9101595282554626, 0.9032939672470093, 0.9287666082382202, 0.9159995913505554, 0.9291673302650452, 0.9257979393005371, 0.8955566883087158, 0.8621720671653748, 0.750839352607727]}]\n",
            "the time taken was 181.86931109428406\n"
          ]
        }
      ]
    },
    {
      "cell_type": "code",
      "source": [],
      "metadata": {
        "id": "FGmb7fwlgsbv"
      },
      "execution_count": null,
      "outputs": []
    }
  ]
}